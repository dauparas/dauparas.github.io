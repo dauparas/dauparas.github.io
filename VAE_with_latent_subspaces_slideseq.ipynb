{
  "nbformat": 4,
  "nbformat_minor": 0,
  "metadata": {
    "colab": {
      "name": "VAE_with_latent_subspaces_slideseq.ipynb",
      "version": "0.3.2",
      "provenance": [],
      "collapsed_sections": [],
      "toc_visible": true,
      "machine_shape": "hm",
      "include_colab_link": true
    },
    "kernelspec": {
      "name": "python3",
      "display_name": "Python 3"
    },
    "accelerator": "GPU"
  },
  "cells": [
    {
      "cell_type": "markdown",
      "metadata": {
        "id": "view-in-github",
        "colab_type": "text"
      },
      "source": [
        "<a href=\"https://colab.research.google.com/github/dauparas/dauparas.github.io/blob/master/VAE_with_latent_subspaces_slideseq.ipynb\" target=\"_parent\"><img src=\"https://colab.research.google.com/assets/colab-badge.svg\" alt=\"Open In Colab\"/></a>"
      ]
    },
    {
      "cell_type": "code",
      "metadata": {
        "id": "S5vf1b7Fb5cA",
        "colab_type": "code",
        "outputId": "6ab5be64-ad52-4a5b-f5c1-c370a6461e7a",
        "colab": {
          "base_uri": "https://localhost:8080/",
          "height": 731
        }
      },
      "source": [
        "!wget -O ./example_data.tar.gz https://storage.googleapis.com/sabeti-public/dkotliar/cNMF/example_data_20180830.tar.gz\n",
        "!tar -xzf ./example_data.tar.gz && rm ./example_data.tar.gz"
      ],
      "execution_count": 0,
      "outputs": [
        {
          "output_type": "stream",
          "text": [
            "--2019-09-06 16:45:05--  https://storage.googleapis.com/sabeti-public/dkotliar/cNMF/example_data_20180830.tar.gz\n",
            "Resolving storage.googleapis.com (storage.googleapis.com)... 108.177.15.128, 2a00:1450:400c:c06::80\n",
            "Connecting to storage.googleapis.com (storage.googleapis.com)|108.177.15.128|:443... connected.\n",
            "HTTP request sent, awaiting response... 200 OK\n",
            "Length: 6214340 (5.9M) [application/x-gzip]\n",
            "Saving to: ‘./example_data.tar.gz’\n",
            "\n",
            "\r./example_data.tar.   0%[                    ]       0  --.-KB/s               \r./example_data.tar. 100%[===================>]   5.93M  --.-KB/s    in 0.04s   \n",
            "\n",
            "2019-09-06 16:45:05 (138 MB/s) - ‘./example_data.tar.gz’ saved [6214340/6214340]\n",
            "\n",
            "tar: Ignoring unknown extended header keyword 'LIBARCHIVE.creationtime'\n",
            "tar: Ignoring unknown extended header keyword 'SCHILY.dev'\n",
            "tar: Ignoring unknown extended header keyword 'SCHILY.ino'\n",
            "tar: Ignoring unknown extended header keyword 'SCHILY.nlink'\n",
            "tar: Ignoring unknown extended header keyword 'SCHILY.dev'\n",
            "tar: Ignoring unknown extended header keyword 'SCHILY.ino'\n",
            "tar: Ignoring unknown extended header keyword 'SCHILY.nlink'\n",
            "tar: Ignoring unknown extended header keyword 'LIBARCHIVE.creationtime'\n",
            "tar: Ignoring unknown extended header keyword 'SCHILY.dev'\n",
            "tar: Ignoring unknown extended header keyword 'SCHILY.ino'\n",
            "tar: Ignoring unknown extended header keyword 'SCHILY.nlink'\n",
            "tar: Ignoring unknown extended header keyword 'SCHILY.dev'\n",
            "tar: Ignoring unknown extended header keyword 'SCHILY.ino'\n",
            "tar: Ignoring unknown extended header keyword 'SCHILY.nlink'\n",
            "tar: Ignoring unknown extended header keyword 'SCHILY.dev'\n",
            "tar: Ignoring unknown extended header keyword 'SCHILY.ino'\n",
            "tar: Ignoring unknown extended header keyword 'SCHILY.nlink'\n",
            "tar: Ignoring unknown extended header keyword 'SCHILY.dev'\n",
            "tar: Ignoring unknown extended header keyword 'SCHILY.ino'\n",
            "tar: Ignoring unknown extended header keyword 'SCHILY.nlink'\n",
            "tar: Ignoring unknown extended header keyword 'LIBARCHIVE.creationtime'\n",
            "tar: Ignoring unknown extended header keyword 'SCHILY.dev'\n",
            "tar: Ignoring unknown extended header keyword 'SCHILY.ino'\n",
            "tar: Ignoring unknown extended header keyword 'SCHILY.nlink'\n",
            "tar: Ignoring unknown extended header keyword 'SCHILY.dev'\n",
            "tar: Ignoring unknown extended header keyword 'SCHILY.ino'\n",
            "tar: Ignoring unknown extended header keyword 'SCHILY.nlink'\n",
            "tar: Ignoring unknown extended header keyword 'LIBARCHIVE.creationtime'\n",
            "tar: Ignoring unknown extended header keyword 'SCHILY.dev'\n",
            "tar: Ignoring unknown extended header keyword 'SCHILY.ino'\n",
            "tar: Ignoring unknown extended header keyword 'SCHILY.nlink'\n"
          ],
          "name": "stdout"
        }
      ]
    },
    {
      "cell_type": "code",
      "metadata": {
        "id": "oSUhSSpqdKsr",
        "colab_type": "code",
        "colab": {}
      },
      "source": [
        "import numpy as np"
      ],
      "execution_count": 0,
      "outputs": []
    },
    {
      "cell_type": "code",
      "metadata": {
        "id": "W7Rp1cafcHEG",
        "colab_type": "code",
        "colab": {}
      },
      "source": [
        "import pandas as pd\n",
        "dataset=pd.read_csv(\"./example_data/counts_prefiltered.txt\",delimiter=\"\\t\")"
      ],
      "execution_count": 0,
      "outputs": []
    },
    {
      "cell_type": "code",
      "metadata": {
        "id": "fVdapqSWeLLz",
        "colab_type": "code",
        "colab": {}
      },
      "source": [
        "X_raw = dataset.values[:, 1:].astype(np.float32)"
      ],
      "execution_count": 0,
      "outputs": []
    },
    {
      "cell_type": "code",
      "metadata": {
        "id": "w78xHXGAfg01",
        "colab_type": "code",
        "outputId": "2045832a-c9fb-4fb5-e37a-0d8379c44a64",
        "colab": {
          "base_uri": "https://localhost:8080/",
          "height": 34
        }
      },
      "source": [
        "X_raw.shape"
      ],
      "execution_count": 0,
      "outputs": [
        {
          "output_type": "execute_result",
          "data": {
            "text/plain": [
              "(4080, 8097)"
            ]
          },
          "metadata": {
            "tags": []
          },
          "execution_count": 39
        }
      ]
    },
    {
      "cell_type": "code",
      "metadata": {
        "id": "p1xZM4wBhvEj",
        "colab_type": "code",
        "colab": {}
      },
      "source": [
        "counts_per_cell = np.sum(X_raw, axis=1)"
      ],
      "execution_count": 0,
      "outputs": []
    },
    {
      "cell_type": "code",
      "metadata": {
        "id": "j2STECO9iPBl",
        "colab_type": "code",
        "colab": {}
      },
      "source": [
        "X_raw_c = X_raw/counts_per_cell[:, np.newaxis]"
      ],
      "execution_count": 0,
      "outputs": []
    },
    {
      "cell_type": "code",
      "metadata": {
        "id": "w7lK0xEzh3kC",
        "colab_type": "code",
        "colab": {}
      },
      "source": [
        "mean_over_cells = np.mean(X_raw_c, axis=0)"
      ],
      "execution_count": 0,
      "outputs": []
    },
    {
      "cell_type": "code",
      "metadata": {
        "id": "wve8qPzPiDRL",
        "colab_type": "code",
        "colab": {}
      },
      "source": [
        "std_over_cells = np.std(X_raw_c, axis=0)"
      ],
      "execution_count": 0,
      "outputs": []
    },
    {
      "cell_type": "code",
      "metadata": {
        "id": "Pj7-xqg1iFCv",
        "colab_type": "code",
        "colab": {}
      },
      "source": [
        "fano = std_over_cells**2/mean_over_cells"
      ],
      "execution_count": 0,
      "outputs": []
    },
    {
      "cell_type": "code",
      "metadata": {
        "id": "1ixOY9GdijyT",
        "colab_type": "code",
        "outputId": "51b299fc-dfae-431d-87fe-1b2b4d677f69",
        "colab": {
          "base_uri": "https://localhost:8080/",
          "height": 51
        }
      },
      "source": [
        "np.sort(fano)"
      ],
      "execution_count": 0,
      "outputs": [
        {
          "output_type": "execute_result",
          "data": {
            "text/plain": [
              "array([0.00023974, 0.00027438, 0.00028795, ..., 0.01702818, 0.02135584,\n",
              "       0.02973751], dtype=float32)"
            ]
          },
          "metadata": {
            "tags": []
          },
          "execution_count": 58
        }
      ]
    },
    {
      "cell_type": "code",
      "metadata": {
        "id": "5d85xzFciaPs",
        "colab_type": "code",
        "colab": {}
      },
      "source": [
        "fano_indx = np.argwhere(fano < 0.001)"
      ],
      "execution_count": 0,
      "outputs": []
    },
    {
      "cell_type": "code",
      "metadata": {
        "id": "-p_0IEVnietG",
        "colab_type": "code",
        "colab": {}
      },
      "source": [
        "X = np.delete(X_raw_c, fano_indx, axis=1)"
      ],
      "execution_count": 0,
      "outputs": []
    },
    {
      "cell_type": "code",
      "metadata": {
        "id": "PKwShcDmeTOv",
        "colab_type": "code",
        "colab": {}
      },
      "source": [
        "cellparams=pd.read_csv(\"./example_data/groundtruth_cellparams.txt\",delimiter=\"\\t\")"
      ],
      "execution_count": 0,
      "outputs": []
    },
    {
      "cell_type": "code",
      "metadata": {
        "id": "7Ju3tMVtizIv",
        "colab_type": "code",
        "colab": {}
      },
      "source": [
        "U = cellparams.values[:, 1].astype(np.int16)[:,np.newaxis]"
      ],
      "execution_count": 0,
      "outputs": []
    },
    {
      "cell_type": "code",
      "metadata": {
        "id": "eMVtFMlyepG2",
        "colab_type": "code",
        "colab": {}
      },
      "source": [
        "geneparams=pd.read_csv(\"./example_data/groundtruth_geneparams.txt\",delimiter=\"\\t\")"
      ],
      "execution_count": 0,
      "outputs": []
    },
    {
      "cell_type": "code",
      "metadata": {
        "id": "h8rWZcUgebgd",
        "colab_type": "code",
        "outputId": "e3ea05b1-6e38-4b23-ce1e-181d6f5c9ab6",
        "colab": {
          "base_uri": "https://localhost:8080/",
          "height": 1000
        }
      },
      "source": [
        "geneparams"
      ],
      "execution_count": 0,
      "outputs": [
        {
          "output_type": "execute_result",
          "data": {
            "text/html": [
              "<div>\n",
              "<style scoped>\n",
              "    .dataframe tbody tr th:only-of-type {\n",
              "        vertical-align: middle;\n",
              "    }\n",
              "\n",
              "    .dataframe tbody tr th {\n",
              "        vertical-align: top;\n",
              "    }\n",
              "\n",
              "    .dataframe thead th {\n",
              "        text-align: right;\n",
              "    }\n",
              "</style>\n",
              "<table border=\"1\" class=\"dataframe\">\n",
              "  <thead>\n",
              "    <tr style=\"text-align: right;\">\n",
              "      <th></th>\n",
              "      <th>Unnamed: 0</th>\n",
              "      <th>BaseGeneMean</th>\n",
              "      <th>is_outlier</th>\n",
              "      <th>outlier_ratio</th>\n",
              "      <th>gene_mean</th>\n",
              "      <th>prog_gene</th>\n",
              "      <th>prog_genemean</th>\n",
              "      <th>group1_DEratio</th>\n",
              "      <th>group1_genemean</th>\n",
              "      <th>group2_DEratio</th>\n",
              "      <th>group2_genemean</th>\n",
              "      <th>group3_DEratio</th>\n",
              "      <th>group3_genemean</th>\n",
              "      <th>group4_DEratio</th>\n",
              "      <th>group4_genemean</th>\n",
              "      <th>group5_DEratio</th>\n",
              "      <th>group5_genemean</th>\n",
              "      <th>group6_DEratio</th>\n",
              "      <th>group6_genemean</th>\n",
              "      <th>group7_DEratio</th>\n",
              "      <th>group7_genemean</th>\n",
              "      <th>group8_DEratio</th>\n",
              "      <th>group8_genemean</th>\n",
              "      <th>group9_DEratio</th>\n",
              "      <th>group9_genemean</th>\n",
              "    </tr>\n",
              "  </thead>\n",
              "  <tbody>\n",
              "    <tr>\n",
              "      <th>0</th>\n",
              "      <td>Gene1</td>\n",
              "      <td>0.000301</td>\n",
              "      <td>False</td>\n",
              "      <td>1.0</td>\n",
              "      <td>0.000301</td>\n",
              "      <td>False</td>\n",
              "      <td>0.000301</td>\n",
              "      <td>1.000000</td>\n",
              "      <td>0.000301</td>\n",
              "      <td>1.0</td>\n",
              "      <td>0.000301</td>\n",
              "      <td>1.000000</td>\n",
              "      <td>0.000301</td>\n",
              "      <td>1.0</td>\n",
              "      <td>0.000301</td>\n",
              "      <td>1.000000</td>\n",
              "      <td>0.000301</td>\n",
              "      <td>1.0</td>\n",
              "      <td>0.000301</td>\n",
              "      <td>1.0</td>\n",
              "      <td>0.000301</td>\n",
              "      <td>1.000000</td>\n",
              "      <td>0.000301</td>\n",
              "      <td>1.0</td>\n",
              "      <td>0.000301</td>\n",
              "    </tr>\n",
              "    <tr>\n",
              "      <th>1</th>\n",
              "      <td>Gene2</td>\n",
              "      <td>0.000286</td>\n",
              "      <td>False</td>\n",
              "      <td>1.0</td>\n",
              "      <td>0.000286</td>\n",
              "      <td>False</td>\n",
              "      <td>0.000286</td>\n",
              "      <td>1.000000</td>\n",
              "      <td>0.000286</td>\n",
              "      <td>1.0</td>\n",
              "      <td>0.000286</td>\n",
              "      <td>1.000000</td>\n",
              "      <td>0.000286</td>\n",
              "      <td>1.0</td>\n",
              "      <td>0.000286</td>\n",
              "      <td>1.000000</td>\n",
              "      <td>0.000286</td>\n",
              "      <td>1.0</td>\n",
              "      <td>0.000286</td>\n",
              "      <td>1.0</td>\n",
              "      <td>0.000286</td>\n",
              "      <td>1.000000</td>\n",
              "      <td>0.000286</td>\n",
              "      <td>1.0</td>\n",
              "      <td>0.000286</td>\n",
              "    </tr>\n",
              "    <tr>\n",
              "      <th>2</th>\n",
              "      <td>Gene3</td>\n",
              "      <td>0.028388</td>\n",
              "      <td>False</td>\n",
              "      <td>1.0</td>\n",
              "      <td>0.028388</td>\n",
              "      <td>False</td>\n",
              "      <td>0.028388</td>\n",
              "      <td>1.000000</td>\n",
              "      <td>0.028388</td>\n",
              "      <td>1.0</td>\n",
              "      <td>0.028388</td>\n",
              "      <td>1.000000</td>\n",
              "      <td>0.028388</td>\n",
              "      <td>1.0</td>\n",
              "      <td>0.028388</td>\n",
              "      <td>1.000000</td>\n",
              "      <td>0.028388</td>\n",
              "      <td>1.0</td>\n",
              "      <td>0.028388</td>\n",
              "      <td>1.0</td>\n",
              "      <td>0.028388</td>\n",
              "      <td>1.000000</td>\n",
              "      <td>0.028388</td>\n",
              "      <td>1.0</td>\n",
              "      <td>0.028388</td>\n",
              "    </tr>\n",
              "    <tr>\n",
              "      <th>3</th>\n",
              "      <td>Gene4</td>\n",
              "      <td>0.027228</td>\n",
              "      <td>False</td>\n",
              "      <td>1.0</td>\n",
              "      <td>0.027228</td>\n",
              "      <td>False</td>\n",
              "      <td>0.027228</td>\n",
              "      <td>6.613936</td>\n",
              "      <td>0.180081</td>\n",
              "      <td>1.0</td>\n",
              "      <td>0.027228</td>\n",
              "      <td>1.000000</td>\n",
              "      <td>0.027228</td>\n",
              "      <td>1.0</td>\n",
              "      <td>0.027228</td>\n",
              "      <td>1.000000</td>\n",
              "      <td>0.027228</td>\n",
              "      <td>1.0</td>\n",
              "      <td>0.027228</td>\n",
              "      <td>1.0</td>\n",
              "      <td>0.027228</td>\n",
              "      <td>1.000000</td>\n",
              "      <td>0.027228</td>\n",
              "      <td>1.0</td>\n",
              "      <td>0.027228</td>\n",
              "    </tr>\n",
              "    <tr>\n",
              "      <th>4</th>\n",
              "      <td>Gene5</td>\n",
              "      <td>0.002961</td>\n",
              "      <td>False</td>\n",
              "      <td>1.0</td>\n",
              "      <td>0.002961</td>\n",
              "      <td>False</td>\n",
              "      <td>0.002961</td>\n",
              "      <td>1.000000</td>\n",
              "      <td>0.002961</td>\n",
              "      <td>1.0</td>\n",
              "      <td>0.002961</td>\n",
              "      <td>8.476354</td>\n",
              "      <td>0.025095</td>\n",
              "      <td>1.0</td>\n",
              "      <td>0.002961</td>\n",
              "      <td>1.000000</td>\n",
              "      <td>0.002961</td>\n",
              "      <td>1.0</td>\n",
              "      <td>0.002961</td>\n",
              "      <td>1.0</td>\n",
              "      <td>0.002961</td>\n",
              "      <td>1.000000</td>\n",
              "      <td>0.002961</td>\n",
              "      <td>1.0</td>\n",
              "      <td>0.002961</td>\n",
              "    </tr>\n",
              "    <tr>\n",
              "      <th>5</th>\n",
              "      <td>Gene6</td>\n",
              "      <td>0.019548</td>\n",
              "      <td>False</td>\n",
              "      <td>1.0</td>\n",
              "      <td>0.019548</td>\n",
              "      <td>False</td>\n",
              "      <td>0.019548</td>\n",
              "      <td>1.000000</td>\n",
              "      <td>0.019548</td>\n",
              "      <td>1.0</td>\n",
              "      <td>0.019548</td>\n",
              "      <td>1.000000</td>\n",
              "      <td>0.019548</td>\n",
              "      <td>1.0</td>\n",
              "      <td>0.019548</td>\n",
              "      <td>1.000000</td>\n",
              "      <td>0.019548</td>\n",
              "      <td>1.0</td>\n",
              "      <td>0.019548</td>\n",
              "      <td>1.0</td>\n",
              "      <td>0.019548</td>\n",
              "      <td>1.000000</td>\n",
              "      <td>0.019548</td>\n",
              "      <td>1.0</td>\n",
              "      <td>0.019548</td>\n",
              "    </tr>\n",
              "    <tr>\n",
              "      <th>6</th>\n",
              "      <td>Gene7</td>\n",
              "      <td>0.014260</td>\n",
              "      <td>False</td>\n",
              "      <td>1.0</td>\n",
              "      <td>0.014260</td>\n",
              "      <td>False</td>\n",
              "      <td>0.014260</td>\n",
              "      <td>1.000000</td>\n",
              "      <td>0.014260</td>\n",
              "      <td>1.0</td>\n",
              "      <td>0.014260</td>\n",
              "      <td>1.000000</td>\n",
              "      <td>0.014260</td>\n",
              "      <td>1.0</td>\n",
              "      <td>0.014260</td>\n",
              "      <td>1.000000</td>\n",
              "      <td>0.014260</td>\n",
              "      <td>1.0</td>\n",
              "      <td>0.014260</td>\n",
              "      <td>1.0</td>\n",
              "      <td>0.014260</td>\n",
              "      <td>1.000000</td>\n",
              "      <td>0.014260</td>\n",
              "      <td>1.0</td>\n",
              "      <td>0.014260</td>\n",
              "    </tr>\n",
              "    <tr>\n",
              "      <th>7</th>\n",
              "      <td>Gene8</td>\n",
              "      <td>0.000009</td>\n",
              "      <td>False</td>\n",
              "      <td>1.0</td>\n",
              "      <td>0.000009</td>\n",
              "      <td>False</td>\n",
              "      <td>0.000009</td>\n",
              "      <td>1.000000</td>\n",
              "      <td>0.000009</td>\n",
              "      <td>1.0</td>\n",
              "      <td>0.000009</td>\n",
              "      <td>1.000000</td>\n",
              "      <td>0.000009</td>\n",
              "      <td>1.0</td>\n",
              "      <td>0.000009</td>\n",
              "      <td>1.000000</td>\n",
              "      <td>0.000009</td>\n",
              "      <td>1.0</td>\n",
              "      <td>0.000009</td>\n",
              "      <td>1.0</td>\n",
              "      <td>0.000009</td>\n",
              "      <td>1.000000</td>\n",
              "      <td>0.000009</td>\n",
              "      <td>1.0</td>\n",
              "      <td>0.000009</td>\n",
              "    </tr>\n",
              "    <tr>\n",
              "      <th>8</th>\n",
              "      <td>Gene9</td>\n",
              "      <td>0.255918</td>\n",
              "      <td>False</td>\n",
              "      <td>1.0</td>\n",
              "      <td>0.255918</td>\n",
              "      <td>False</td>\n",
              "      <td>0.255918</td>\n",
              "      <td>1.000000</td>\n",
              "      <td>0.255918</td>\n",
              "      <td>1.0</td>\n",
              "      <td>0.255918</td>\n",
              "      <td>1.000000</td>\n",
              "      <td>0.255918</td>\n",
              "      <td>1.0</td>\n",
              "      <td>0.255918</td>\n",
              "      <td>1.000000</td>\n",
              "      <td>0.255918</td>\n",
              "      <td>1.0</td>\n",
              "      <td>0.255918</td>\n",
              "      <td>1.0</td>\n",
              "      <td>0.255918</td>\n",
              "      <td>1.000000</td>\n",
              "      <td>0.255918</td>\n",
              "      <td>1.0</td>\n",
              "      <td>0.255918</td>\n",
              "    </tr>\n",
              "    <tr>\n",
              "      <th>9</th>\n",
              "      <td>Gene10</td>\n",
              "      <td>0.000361</td>\n",
              "      <td>False</td>\n",
              "      <td>1.0</td>\n",
              "      <td>0.000361</td>\n",
              "      <td>False</td>\n",
              "      <td>0.000361</td>\n",
              "      <td>1.000000</td>\n",
              "      <td>0.000361</td>\n",
              "      <td>1.0</td>\n",
              "      <td>0.000361</td>\n",
              "      <td>1.000000</td>\n",
              "      <td>0.000361</td>\n",
              "      <td>1.0</td>\n",
              "      <td>0.000361</td>\n",
              "      <td>1.000000</td>\n",
              "      <td>0.000361</td>\n",
              "      <td>1.0</td>\n",
              "      <td>0.000361</td>\n",
              "      <td>1.0</td>\n",
              "      <td>0.000361</td>\n",
              "      <td>1.000000</td>\n",
              "      <td>0.000361</td>\n",
              "      <td>1.0</td>\n",
              "      <td>0.000361</td>\n",
              "    </tr>\n",
              "    <tr>\n",
              "      <th>10</th>\n",
              "      <td>Gene11</td>\n",
              "      <td>0.004006</td>\n",
              "      <td>False</td>\n",
              "      <td>1.0</td>\n",
              "      <td>0.004006</td>\n",
              "      <td>False</td>\n",
              "      <td>0.004006</td>\n",
              "      <td>1.000000</td>\n",
              "      <td>0.004006</td>\n",
              "      <td>1.0</td>\n",
              "      <td>0.004006</td>\n",
              "      <td>1.000000</td>\n",
              "      <td>0.004006</td>\n",
              "      <td>1.0</td>\n",
              "      <td>0.004006</td>\n",
              "      <td>1.000000</td>\n",
              "      <td>0.004006</td>\n",
              "      <td>1.0</td>\n",
              "      <td>0.004006</td>\n",
              "      <td>1.0</td>\n",
              "      <td>0.004006</td>\n",
              "      <td>1.000000</td>\n",
              "      <td>0.004006</td>\n",
              "      <td>1.0</td>\n",
              "      <td>0.004006</td>\n",
              "    </tr>\n",
              "    <tr>\n",
              "      <th>11</th>\n",
              "      <td>Gene12</td>\n",
              "      <td>0.078263</td>\n",
              "      <td>False</td>\n",
              "      <td>1.0</td>\n",
              "      <td>0.078263</td>\n",
              "      <td>False</td>\n",
              "      <td>0.078263</td>\n",
              "      <td>1.000000</td>\n",
              "      <td>0.078263</td>\n",
              "      <td>1.0</td>\n",
              "      <td>0.078263</td>\n",
              "      <td>1.000000</td>\n",
              "      <td>0.078263</td>\n",
              "      <td>1.0</td>\n",
              "      <td>0.078263</td>\n",
              "      <td>1.000000</td>\n",
              "      <td>0.078263</td>\n",
              "      <td>1.0</td>\n",
              "      <td>0.078263</td>\n",
              "      <td>1.0</td>\n",
              "      <td>0.078263</td>\n",
              "      <td>1.126025</td>\n",
              "      <td>0.088126</td>\n",
              "      <td>1.0</td>\n",
              "      <td>0.078263</td>\n",
              "    </tr>\n",
              "    <tr>\n",
              "      <th>12</th>\n",
              "      <td>Gene13</td>\n",
              "      <td>0.020788</td>\n",
              "      <td>False</td>\n",
              "      <td>1.0</td>\n",
              "      <td>0.020788</td>\n",
              "      <td>False</td>\n",
              "      <td>0.020788</td>\n",
              "      <td>1.000000</td>\n",
              "      <td>0.020788</td>\n",
              "      <td>1.0</td>\n",
              "      <td>0.020788</td>\n",
              "      <td>1.000000</td>\n",
              "      <td>0.020788</td>\n",
              "      <td>1.0</td>\n",
              "      <td>0.020788</td>\n",
              "      <td>1.000000</td>\n",
              "      <td>0.020788</td>\n",
              "      <td>1.0</td>\n",
              "      <td>0.020788</td>\n",
              "      <td>1.0</td>\n",
              "      <td>0.020788</td>\n",
              "      <td>1.000000</td>\n",
              "      <td>0.020788</td>\n",
              "      <td>1.0</td>\n",
              "      <td>0.020788</td>\n",
              "    </tr>\n",
              "    <tr>\n",
              "      <th>13</th>\n",
              "      <td>Gene14</td>\n",
              "      <td>0.000869</td>\n",
              "      <td>False</td>\n",
              "      <td>1.0</td>\n",
              "      <td>0.000869</td>\n",
              "      <td>False</td>\n",
              "      <td>0.000869</td>\n",
              "      <td>1.000000</td>\n",
              "      <td>0.000869</td>\n",
              "      <td>1.0</td>\n",
              "      <td>0.000869</td>\n",
              "      <td>1.000000</td>\n",
              "      <td>0.000869</td>\n",
              "      <td>1.0</td>\n",
              "      <td>0.000869</td>\n",
              "      <td>1.000000</td>\n",
              "      <td>0.000869</td>\n",
              "      <td>1.0</td>\n",
              "      <td>0.000869</td>\n",
              "      <td>1.0</td>\n",
              "      <td>0.000869</td>\n",
              "      <td>1.000000</td>\n",
              "      <td>0.000869</td>\n",
              "      <td>1.0</td>\n",
              "      <td>0.000869</td>\n",
              "    </tr>\n",
              "    <tr>\n",
              "      <th>14</th>\n",
              "      <td>Gene15</td>\n",
              "      <td>0.003637</td>\n",
              "      <td>False</td>\n",
              "      <td>1.0</td>\n",
              "      <td>0.003637</td>\n",
              "      <td>False</td>\n",
              "      <td>0.003637</td>\n",
              "      <td>1.000000</td>\n",
              "      <td>0.003637</td>\n",
              "      <td>1.0</td>\n",
              "      <td>0.003637</td>\n",
              "      <td>1.000000</td>\n",
              "      <td>0.003637</td>\n",
              "      <td>1.0</td>\n",
              "      <td>0.003637</td>\n",
              "      <td>1.000000</td>\n",
              "      <td>0.003637</td>\n",
              "      <td>1.0</td>\n",
              "      <td>0.003637</td>\n",
              "      <td>1.0</td>\n",
              "      <td>0.003637</td>\n",
              "      <td>1.000000</td>\n",
              "      <td>0.003637</td>\n",
              "      <td>1.0</td>\n",
              "      <td>0.003637</td>\n",
              "    </tr>\n",
              "    <tr>\n",
              "      <th>15</th>\n",
              "      <td>Gene16</td>\n",
              "      <td>0.002135</td>\n",
              "      <td>False</td>\n",
              "      <td>1.0</td>\n",
              "      <td>0.002135</td>\n",
              "      <td>False</td>\n",
              "      <td>0.002135</td>\n",
              "      <td>1.000000</td>\n",
              "      <td>0.002135</td>\n",
              "      <td>1.0</td>\n",
              "      <td>0.002135</td>\n",
              "      <td>1.000000</td>\n",
              "      <td>0.002135</td>\n",
              "      <td>1.0</td>\n",
              "      <td>0.002135</td>\n",
              "      <td>1.000000</td>\n",
              "      <td>0.002135</td>\n",
              "      <td>1.0</td>\n",
              "      <td>0.002135</td>\n",
              "      <td>1.0</td>\n",
              "      <td>0.002135</td>\n",
              "      <td>1.000000</td>\n",
              "      <td>0.002135</td>\n",
              "      <td>1.0</td>\n",
              "      <td>0.002135</td>\n",
              "    </tr>\n",
              "    <tr>\n",
              "      <th>16</th>\n",
              "      <td>Gene17</td>\n",
              "      <td>0.016221</td>\n",
              "      <td>False</td>\n",
              "      <td>1.0</td>\n",
              "      <td>0.016221</td>\n",
              "      <td>False</td>\n",
              "      <td>0.016221</td>\n",
              "      <td>1.000000</td>\n",
              "      <td>0.016221</td>\n",
              "      <td>1.0</td>\n",
              "      <td>0.016221</td>\n",
              "      <td>1.000000</td>\n",
              "      <td>0.016221</td>\n",
              "      <td>1.0</td>\n",
              "      <td>0.016221</td>\n",
              "      <td>1.000000</td>\n",
              "      <td>0.016221</td>\n",
              "      <td>1.0</td>\n",
              "      <td>0.016221</td>\n",
              "      <td>1.0</td>\n",
              "      <td>0.016221</td>\n",
              "      <td>1.000000</td>\n",
              "      <td>0.016221</td>\n",
              "      <td>1.0</td>\n",
              "      <td>0.016221</td>\n",
              "    </tr>\n",
              "    <tr>\n",
              "      <th>17</th>\n",
              "      <td>Gene18</td>\n",
              "      <td>0.002606</td>\n",
              "      <td>False</td>\n",
              "      <td>1.0</td>\n",
              "      <td>0.002606</td>\n",
              "      <td>False</td>\n",
              "      <td>0.002606</td>\n",
              "      <td>1.000000</td>\n",
              "      <td>0.002606</td>\n",
              "      <td>1.0</td>\n",
              "      <td>0.002606</td>\n",
              "      <td>1.000000</td>\n",
              "      <td>0.002606</td>\n",
              "      <td>1.0</td>\n",
              "      <td>0.002606</td>\n",
              "      <td>1.000000</td>\n",
              "      <td>0.002606</td>\n",
              "      <td>1.0</td>\n",
              "      <td>0.002606</td>\n",
              "      <td>1.0</td>\n",
              "      <td>0.002606</td>\n",
              "      <td>1.000000</td>\n",
              "      <td>0.002606</td>\n",
              "      <td>1.0</td>\n",
              "      <td>0.002606</td>\n",
              "    </tr>\n",
              "    <tr>\n",
              "      <th>18</th>\n",
              "      <td>Gene19</td>\n",
              "      <td>0.004845</td>\n",
              "      <td>False</td>\n",
              "      <td>1.0</td>\n",
              "      <td>0.004845</td>\n",
              "      <td>False</td>\n",
              "      <td>0.004845</td>\n",
              "      <td>1.000000</td>\n",
              "      <td>0.004845</td>\n",
              "      <td>1.0</td>\n",
              "      <td>0.004845</td>\n",
              "      <td>2.403771</td>\n",
              "      <td>0.011647</td>\n",
              "      <td>1.0</td>\n",
              "      <td>0.004845</td>\n",
              "      <td>1.000000</td>\n",
              "      <td>0.004845</td>\n",
              "      <td>1.0</td>\n",
              "      <td>0.004845</td>\n",
              "      <td>1.0</td>\n",
              "      <td>0.004845</td>\n",
              "      <td>1.000000</td>\n",
              "      <td>0.004845</td>\n",
              "      <td>1.0</td>\n",
              "      <td>0.004845</td>\n",
              "    </tr>\n",
              "    <tr>\n",
              "      <th>19</th>\n",
              "      <td>Gene20</td>\n",
              "      <td>0.093906</td>\n",
              "      <td>False</td>\n",
              "      <td>1.0</td>\n",
              "      <td>0.093906</td>\n",
              "      <td>False</td>\n",
              "      <td>0.093906</td>\n",
              "      <td>1.000000</td>\n",
              "      <td>0.093906</td>\n",
              "      <td>1.0</td>\n",
              "      <td>0.093906</td>\n",
              "      <td>1.000000</td>\n",
              "      <td>0.093906</td>\n",
              "      <td>1.0</td>\n",
              "      <td>0.093906</td>\n",
              "      <td>1.000000</td>\n",
              "      <td>0.093906</td>\n",
              "      <td>1.0</td>\n",
              "      <td>0.093906</td>\n",
              "      <td>1.0</td>\n",
              "      <td>0.093906</td>\n",
              "      <td>1.000000</td>\n",
              "      <td>0.093906</td>\n",
              "      <td>1.0</td>\n",
              "      <td>0.093906</td>\n",
              "    </tr>\n",
              "    <tr>\n",
              "      <th>20</th>\n",
              "      <td>Gene21</td>\n",
              "      <td>0.007092</td>\n",
              "      <td>False</td>\n",
              "      <td>1.0</td>\n",
              "      <td>0.007092</td>\n",
              "      <td>False</td>\n",
              "      <td>0.007092</td>\n",
              "      <td>1.000000</td>\n",
              "      <td>0.007092</td>\n",
              "      <td>1.0</td>\n",
              "      <td>0.007092</td>\n",
              "      <td>1.000000</td>\n",
              "      <td>0.007092</td>\n",
              "      <td>1.0</td>\n",
              "      <td>0.007092</td>\n",
              "      <td>1.850761</td>\n",
              "      <td>0.013125</td>\n",
              "      <td>1.0</td>\n",
              "      <td>0.007092</td>\n",
              "      <td>1.0</td>\n",
              "      <td>0.007092</td>\n",
              "      <td>1.000000</td>\n",
              "      <td>0.007092</td>\n",
              "      <td>1.0</td>\n",
              "      <td>0.007092</td>\n",
              "    </tr>\n",
              "    <tr>\n",
              "      <th>21</th>\n",
              "      <td>Gene22</td>\n",
              "      <td>0.000115</td>\n",
              "      <td>False</td>\n",
              "      <td>1.0</td>\n",
              "      <td>0.000115</td>\n",
              "      <td>False</td>\n",
              "      <td>0.000115</td>\n",
              "      <td>1.000000</td>\n",
              "      <td>0.000115</td>\n",
              "      <td>1.0</td>\n",
              "      <td>0.000115</td>\n",
              "      <td>1.000000</td>\n",
              "      <td>0.000115</td>\n",
              "      <td>1.0</td>\n",
              "      <td>0.000115</td>\n",
              "      <td>1.000000</td>\n",
              "      <td>0.000115</td>\n",
              "      <td>1.0</td>\n",
              "      <td>0.000115</td>\n",
              "      <td>1.0</td>\n",
              "      <td>0.000115</td>\n",
              "      <td>1.000000</td>\n",
              "      <td>0.000115</td>\n",
              "      <td>1.0</td>\n",
              "      <td>0.000115</td>\n",
              "    </tr>\n",
              "    <tr>\n",
              "      <th>22</th>\n",
              "      <td>Gene23</td>\n",
              "      <td>0.001110</td>\n",
              "      <td>False</td>\n",
              "      <td>1.0</td>\n",
              "      <td>0.001110</td>\n",
              "      <td>False</td>\n",
              "      <td>0.001110</td>\n",
              "      <td>1.000000</td>\n",
              "      <td>0.001110</td>\n",
              "      <td>1.0</td>\n",
              "      <td>0.001110</td>\n",
              "      <td>1.000000</td>\n",
              "      <td>0.001110</td>\n",
              "      <td>1.0</td>\n",
              "      <td>0.001110</td>\n",
              "      <td>1.000000</td>\n",
              "      <td>0.001110</td>\n",
              "      <td>1.0</td>\n",
              "      <td>0.001110</td>\n",
              "      <td>1.0</td>\n",
              "      <td>0.001110</td>\n",
              "      <td>1.000000</td>\n",
              "      <td>0.001110</td>\n",
              "      <td>1.0</td>\n",
              "      <td>0.001110</td>\n",
              "    </tr>\n",
              "    <tr>\n",
              "      <th>23</th>\n",
              "      <td>Gene24</td>\n",
              "      <td>0.007844</td>\n",
              "      <td>False</td>\n",
              "      <td>1.0</td>\n",
              "      <td>0.007844</td>\n",
              "      <td>False</td>\n",
              "      <td>0.007844</td>\n",
              "      <td>1.000000</td>\n",
              "      <td>0.007844</td>\n",
              "      <td>1.0</td>\n",
              "      <td>0.007844</td>\n",
              "      <td>1.000000</td>\n",
              "      <td>0.007844</td>\n",
              "      <td>1.0</td>\n",
              "      <td>0.007844</td>\n",
              "      <td>1.000000</td>\n",
              "      <td>0.007844</td>\n",
              "      <td>1.0</td>\n",
              "      <td>0.007844</td>\n",
              "      <td>1.0</td>\n",
              "      <td>0.007844</td>\n",
              "      <td>1.000000</td>\n",
              "      <td>0.007844</td>\n",
              "      <td>1.0</td>\n",
              "      <td>0.007844</td>\n",
              "    </tr>\n",
              "    <tr>\n",
              "      <th>24</th>\n",
              "      <td>Gene25</td>\n",
              "      <td>0.039936</td>\n",
              "      <td>False</td>\n",
              "      <td>1.0</td>\n",
              "      <td>0.039936</td>\n",
              "      <td>False</td>\n",
              "      <td>0.039936</td>\n",
              "      <td>1.000000</td>\n",
              "      <td>0.039936</td>\n",
              "      <td>1.0</td>\n",
              "      <td>0.039936</td>\n",
              "      <td>1.000000</td>\n",
              "      <td>0.039936</td>\n",
              "      <td>1.0</td>\n",
              "      <td>0.039936</td>\n",
              "      <td>1.000000</td>\n",
              "      <td>0.039936</td>\n",
              "      <td>1.0</td>\n",
              "      <td>0.039936</td>\n",
              "      <td>1.0</td>\n",
              "      <td>0.039936</td>\n",
              "      <td>1.000000</td>\n",
              "      <td>0.039936</td>\n",
              "      <td>1.0</td>\n",
              "      <td>0.039936</td>\n",
              "    </tr>\n",
              "    <tr>\n",
              "      <th>25</th>\n",
              "      <td>Gene26</td>\n",
              "      <td>0.164273</td>\n",
              "      <td>False</td>\n",
              "      <td>1.0</td>\n",
              "      <td>0.164273</td>\n",
              "      <td>False</td>\n",
              "      <td>0.164273</td>\n",
              "      <td>1.000000</td>\n",
              "      <td>0.164273</td>\n",
              "      <td>1.0</td>\n",
              "      <td>0.164273</td>\n",
              "      <td>1.000000</td>\n",
              "      <td>0.164273</td>\n",
              "      <td>1.0</td>\n",
              "      <td>0.164273</td>\n",
              "      <td>1.000000</td>\n",
              "      <td>0.164273</td>\n",
              "      <td>1.0</td>\n",
              "      <td>0.164273</td>\n",
              "      <td>1.0</td>\n",
              "      <td>0.164273</td>\n",
              "      <td>1.000000</td>\n",
              "      <td>0.164273</td>\n",
              "      <td>1.0</td>\n",
              "      <td>0.164273</td>\n",
              "    </tr>\n",
              "    <tr>\n",
              "      <th>26</th>\n",
              "      <td>Gene27</td>\n",
              "      <td>0.079189</td>\n",
              "      <td>False</td>\n",
              "      <td>1.0</td>\n",
              "      <td>0.079189</td>\n",
              "      <td>False</td>\n",
              "      <td>0.079189</td>\n",
              "      <td>1.000000</td>\n",
              "      <td>0.079189</td>\n",
              "      <td>1.0</td>\n",
              "      <td>0.079189</td>\n",
              "      <td>1.000000</td>\n",
              "      <td>0.079189</td>\n",
              "      <td>1.0</td>\n",
              "      <td>0.079189</td>\n",
              "      <td>1.000000</td>\n",
              "      <td>0.079189</td>\n",
              "      <td>1.0</td>\n",
              "      <td>0.079189</td>\n",
              "      <td>1.0</td>\n",
              "      <td>0.079189</td>\n",
              "      <td>1.000000</td>\n",
              "      <td>0.079189</td>\n",
              "      <td>1.0</td>\n",
              "      <td>0.079189</td>\n",
              "    </tr>\n",
              "    <tr>\n",
              "      <th>27</th>\n",
              "      <td>Gene28</td>\n",
              "      <td>0.087537</td>\n",
              "      <td>False</td>\n",
              "      <td>1.0</td>\n",
              "      <td>0.087537</td>\n",
              "      <td>False</td>\n",
              "      <td>0.087537</td>\n",
              "      <td>1.000000</td>\n",
              "      <td>0.087537</td>\n",
              "      <td>1.0</td>\n",
              "      <td>0.087537</td>\n",
              "      <td>1.000000</td>\n",
              "      <td>0.087537</td>\n",
              "      <td>1.0</td>\n",
              "      <td>0.087537</td>\n",
              "      <td>1.000000</td>\n",
              "      <td>0.087537</td>\n",
              "      <td>1.0</td>\n",
              "      <td>0.087537</td>\n",
              "      <td>1.0</td>\n",
              "      <td>0.087537</td>\n",
              "      <td>1.000000</td>\n",
              "      <td>0.087537</td>\n",
              "      <td>1.0</td>\n",
              "      <td>0.087537</td>\n",
              "    </tr>\n",
              "    <tr>\n",
              "      <th>28</th>\n",
              "      <td>Gene29</td>\n",
              "      <td>0.000638</td>\n",
              "      <td>False</td>\n",
              "      <td>1.0</td>\n",
              "      <td>0.000638</td>\n",
              "      <td>False</td>\n",
              "      <td>0.000638</td>\n",
              "      <td>1.000000</td>\n",
              "      <td>0.000638</td>\n",
              "      <td>1.0</td>\n",
              "      <td>0.000638</td>\n",
              "      <td>1.000000</td>\n",
              "      <td>0.000638</td>\n",
              "      <td>1.0</td>\n",
              "      <td>0.000638</td>\n",
              "      <td>1.000000</td>\n",
              "      <td>0.000638</td>\n",
              "      <td>1.0</td>\n",
              "      <td>0.000638</td>\n",
              "      <td>1.0</td>\n",
              "      <td>0.000638</td>\n",
              "      <td>1.000000</td>\n",
              "      <td>0.000638</td>\n",
              "      <td>1.0</td>\n",
              "      <td>0.000638</td>\n",
              "    </tr>\n",
              "    <tr>\n",
              "      <th>29</th>\n",
              "      <td>Gene30</td>\n",
              "      <td>0.047708</td>\n",
              "      <td>False</td>\n",
              "      <td>1.0</td>\n",
              "      <td>0.047708</td>\n",
              "      <td>False</td>\n",
              "      <td>0.047708</td>\n",
              "      <td>1.000000</td>\n",
              "      <td>0.047708</td>\n",
              "      <td>1.0</td>\n",
              "      <td>0.047708</td>\n",
              "      <td>1.000000</td>\n",
              "      <td>0.047708</td>\n",
              "      <td>1.0</td>\n",
              "      <td>0.047708</td>\n",
              "      <td>1.000000</td>\n",
              "      <td>0.047708</td>\n",
              "      <td>1.0</td>\n",
              "      <td>0.047708</td>\n",
              "      <td>1.0</td>\n",
              "      <td>0.047708</td>\n",
              "      <td>1.000000</td>\n",
              "      <td>0.047708</td>\n",
              "      <td>1.0</td>\n",
              "      <td>0.047708</td>\n",
              "    </tr>\n",
              "    <tr>\n",
              "      <th>...</th>\n",
              "      <td>...</td>\n",
              "      <td>...</td>\n",
              "      <td>...</td>\n",
              "      <td>...</td>\n",
              "      <td>...</td>\n",
              "      <td>...</td>\n",
              "      <td>...</td>\n",
              "      <td>...</td>\n",
              "      <td>...</td>\n",
              "      <td>...</td>\n",
              "      <td>...</td>\n",
              "      <td>...</td>\n",
              "      <td>...</td>\n",
              "      <td>...</td>\n",
              "      <td>...</td>\n",
              "      <td>...</td>\n",
              "      <td>...</td>\n",
              "      <td>...</td>\n",
              "      <td>...</td>\n",
              "      <td>...</td>\n",
              "      <td>...</td>\n",
              "      <td>...</td>\n",
              "      <td>...</td>\n",
              "      <td>...</td>\n",
              "      <td>...</td>\n",
              "    </tr>\n",
              "    <tr>\n",
              "      <th>9965</th>\n",
              "      <td>Gene9971</td>\n",
              "      <td>0.001294</td>\n",
              "      <td>False</td>\n",
              "      <td>1.0</td>\n",
              "      <td>0.001294</td>\n",
              "      <td>True</td>\n",
              "      <td>0.001761</td>\n",
              "      <td>1.000000</td>\n",
              "      <td>0.001294</td>\n",
              "      <td>1.0</td>\n",
              "      <td>0.001294</td>\n",
              "      <td>1.000000</td>\n",
              "      <td>0.001294</td>\n",
              "      <td>1.0</td>\n",
              "      <td>0.001294</td>\n",
              "      <td>1.000000</td>\n",
              "      <td>0.001294</td>\n",
              "      <td>1.0</td>\n",
              "      <td>0.001294</td>\n",
              "      <td>1.0</td>\n",
              "      <td>0.001294</td>\n",
              "      <td>1.000000</td>\n",
              "      <td>0.001294</td>\n",
              "      <td>1.0</td>\n",
              "      <td>0.001294</td>\n",
              "    </tr>\n",
              "    <tr>\n",
              "      <th>9966</th>\n",
              "      <td>Gene9972</td>\n",
              "      <td>0.000035</td>\n",
              "      <td>False</td>\n",
              "      <td>1.0</td>\n",
              "      <td>0.000035</td>\n",
              "      <td>True</td>\n",
              "      <td>0.000070</td>\n",
              "      <td>1.000000</td>\n",
              "      <td>0.000035</td>\n",
              "      <td>1.0</td>\n",
              "      <td>0.000035</td>\n",
              "      <td>1.000000</td>\n",
              "      <td>0.000035</td>\n",
              "      <td>1.0</td>\n",
              "      <td>0.000035</td>\n",
              "      <td>1.000000</td>\n",
              "      <td>0.000035</td>\n",
              "      <td>1.0</td>\n",
              "      <td>0.000035</td>\n",
              "      <td>1.0</td>\n",
              "      <td>0.000035</td>\n",
              "      <td>1.000000</td>\n",
              "      <td>0.000035</td>\n",
              "      <td>1.0</td>\n",
              "      <td>0.000035</td>\n",
              "    </tr>\n",
              "    <tr>\n",
              "      <th>9967</th>\n",
              "      <td>Gene9973</td>\n",
              "      <td>0.068947</td>\n",
              "      <td>False</td>\n",
              "      <td>1.0</td>\n",
              "      <td>0.068947</td>\n",
              "      <td>True</td>\n",
              "      <td>0.255825</td>\n",
              "      <td>1.000000</td>\n",
              "      <td>0.068947</td>\n",
              "      <td>1.0</td>\n",
              "      <td>0.068947</td>\n",
              "      <td>1.000000</td>\n",
              "      <td>0.068947</td>\n",
              "      <td>1.0</td>\n",
              "      <td>0.068947</td>\n",
              "      <td>1.000000</td>\n",
              "      <td>0.068947</td>\n",
              "      <td>1.0</td>\n",
              "      <td>0.068947</td>\n",
              "      <td>1.0</td>\n",
              "      <td>0.068947</td>\n",
              "      <td>1.000000</td>\n",
              "      <td>0.068947</td>\n",
              "      <td>1.0</td>\n",
              "      <td>0.068947</td>\n",
              "    </tr>\n",
              "    <tr>\n",
              "      <th>9968</th>\n",
              "      <td>Gene9974</td>\n",
              "      <td>0.006542</td>\n",
              "      <td>False</td>\n",
              "      <td>1.0</td>\n",
              "      <td>0.006542</td>\n",
              "      <td>True</td>\n",
              "      <td>0.012075</td>\n",
              "      <td>1.000000</td>\n",
              "      <td>0.006542</td>\n",
              "      <td>1.0</td>\n",
              "      <td>0.006542</td>\n",
              "      <td>1.000000</td>\n",
              "      <td>0.006542</td>\n",
              "      <td>1.0</td>\n",
              "      <td>0.006542</td>\n",
              "      <td>1.000000</td>\n",
              "      <td>0.006542</td>\n",
              "      <td>1.0</td>\n",
              "      <td>0.006542</td>\n",
              "      <td>1.0</td>\n",
              "      <td>0.006542</td>\n",
              "      <td>1.000000</td>\n",
              "      <td>0.006542</td>\n",
              "      <td>1.0</td>\n",
              "      <td>0.006542</td>\n",
              "    </tr>\n",
              "    <tr>\n",
              "      <th>9969</th>\n",
              "      <td>Gene9975</td>\n",
              "      <td>0.000003</td>\n",
              "      <td>False</td>\n",
              "      <td>1.0</td>\n",
              "      <td>0.000003</td>\n",
              "      <td>True</td>\n",
              "      <td>0.000006</td>\n",
              "      <td>1.000000</td>\n",
              "      <td>0.000003</td>\n",
              "      <td>1.0</td>\n",
              "      <td>0.000003</td>\n",
              "      <td>1.000000</td>\n",
              "      <td>0.000003</td>\n",
              "      <td>1.0</td>\n",
              "      <td>0.000003</td>\n",
              "      <td>1.000000</td>\n",
              "      <td>0.000003</td>\n",
              "      <td>1.0</td>\n",
              "      <td>0.000003</td>\n",
              "      <td>1.0</td>\n",
              "      <td>0.000003</td>\n",
              "      <td>1.000000</td>\n",
              "      <td>0.000003</td>\n",
              "      <td>1.0</td>\n",
              "      <td>0.000003</td>\n",
              "    </tr>\n",
              "    <tr>\n",
              "      <th>9970</th>\n",
              "      <td>Gene9976</td>\n",
              "      <td>0.111683</td>\n",
              "      <td>False</td>\n",
              "      <td>1.0</td>\n",
              "      <td>0.111683</td>\n",
              "      <td>True</td>\n",
              "      <td>1.180132</td>\n",
              "      <td>1.000000</td>\n",
              "      <td>0.111683</td>\n",
              "      <td>1.0</td>\n",
              "      <td>0.111683</td>\n",
              "      <td>1.000000</td>\n",
              "      <td>0.111683</td>\n",
              "      <td>1.0</td>\n",
              "      <td>0.111683</td>\n",
              "      <td>1.000000</td>\n",
              "      <td>0.111683</td>\n",
              "      <td>1.0</td>\n",
              "      <td>0.111683</td>\n",
              "      <td>1.0</td>\n",
              "      <td>0.111683</td>\n",
              "      <td>1.000000</td>\n",
              "      <td>0.111683</td>\n",
              "      <td>1.0</td>\n",
              "      <td>0.111683</td>\n",
              "    </tr>\n",
              "    <tr>\n",
              "      <th>9971</th>\n",
              "      <td>Gene9977</td>\n",
              "      <td>0.017487</td>\n",
              "      <td>False</td>\n",
              "      <td>1.0</td>\n",
              "      <td>0.017487</td>\n",
              "      <td>True</td>\n",
              "      <td>0.146451</td>\n",
              "      <td>1.000000</td>\n",
              "      <td>0.017487</td>\n",
              "      <td>1.0</td>\n",
              "      <td>0.017487</td>\n",
              "      <td>1.000000</td>\n",
              "      <td>0.017487</td>\n",
              "      <td>1.0</td>\n",
              "      <td>0.017487</td>\n",
              "      <td>1.000000</td>\n",
              "      <td>0.017487</td>\n",
              "      <td>1.0</td>\n",
              "      <td>0.017487</td>\n",
              "      <td>1.0</td>\n",
              "      <td>0.017487</td>\n",
              "      <td>1.000000</td>\n",
              "      <td>0.017487</td>\n",
              "      <td>1.0</td>\n",
              "      <td>0.017487</td>\n",
              "    </tr>\n",
              "    <tr>\n",
              "      <th>9972</th>\n",
              "      <td>Gene9978</td>\n",
              "      <td>0.000055</td>\n",
              "      <td>False</td>\n",
              "      <td>1.0</td>\n",
              "      <td>0.000055</td>\n",
              "      <td>True</td>\n",
              "      <td>0.000296</td>\n",
              "      <td>1.000000</td>\n",
              "      <td>0.000055</td>\n",
              "      <td>1.0</td>\n",
              "      <td>0.000055</td>\n",
              "      <td>1.000000</td>\n",
              "      <td>0.000055</td>\n",
              "      <td>1.0</td>\n",
              "      <td>0.000055</td>\n",
              "      <td>1.000000</td>\n",
              "      <td>0.000055</td>\n",
              "      <td>1.0</td>\n",
              "      <td>0.000055</td>\n",
              "      <td>1.0</td>\n",
              "      <td>0.000055</td>\n",
              "      <td>1.000000</td>\n",
              "      <td>0.000055</td>\n",
              "      <td>1.0</td>\n",
              "      <td>0.000055</td>\n",
              "    </tr>\n",
              "    <tr>\n",
              "      <th>9973</th>\n",
              "      <td>Gene9979</td>\n",
              "      <td>0.000828</td>\n",
              "      <td>False</td>\n",
              "      <td>1.0</td>\n",
              "      <td>0.000828</td>\n",
              "      <td>True</td>\n",
              "      <td>0.002121</td>\n",
              "      <td>1.000000</td>\n",
              "      <td>0.000828</td>\n",
              "      <td>1.0</td>\n",
              "      <td>0.000828</td>\n",
              "      <td>1.000000</td>\n",
              "      <td>0.000828</td>\n",
              "      <td>1.0</td>\n",
              "      <td>0.000828</td>\n",
              "      <td>1.000000</td>\n",
              "      <td>0.000828</td>\n",
              "      <td>1.0</td>\n",
              "      <td>0.000828</td>\n",
              "      <td>1.0</td>\n",
              "      <td>0.000828</td>\n",
              "      <td>1.000000</td>\n",
              "      <td>0.000828</td>\n",
              "      <td>1.0</td>\n",
              "      <td>0.000828</td>\n",
              "    </tr>\n",
              "    <tr>\n",
              "      <th>9974</th>\n",
              "      <td>Gene9980</td>\n",
              "      <td>0.010005</td>\n",
              "      <td>False</td>\n",
              "      <td>1.0</td>\n",
              "      <td>0.010005</td>\n",
              "      <td>True</td>\n",
              "      <td>0.023163</td>\n",
              "      <td>1.000000</td>\n",
              "      <td>0.010005</td>\n",
              "      <td>1.0</td>\n",
              "      <td>0.010005</td>\n",
              "      <td>1.000000</td>\n",
              "      <td>0.010005</td>\n",
              "      <td>1.0</td>\n",
              "      <td>0.010005</td>\n",
              "      <td>1.000000</td>\n",
              "      <td>0.010005</td>\n",
              "      <td>1.0</td>\n",
              "      <td>0.010005</td>\n",
              "      <td>1.0</td>\n",
              "      <td>0.010005</td>\n",
              "      <td>1.000000</td>\n",
              "      <td>0.010005</td>\n",
              "      <td>1.0</td>\n",
              "      <td>0.010005</td>\n",
              "    </tr>\n",
              "    <tr>\n",
              "      <th>9975</th>\n",
              "      <td>Gene9981</td>\n",
              "      <td>0.000586</td>\n",
              "      <td>False</td>\n",
              "      <td>1.0</td>\n",
              "      <td>0.000586</td>\n",
              "      <td>True</td>\n",
              "      <td>0.004448</td>\n",
              "      <td>1.000000</td>\n",
              "      <td>0.000586</td>\n",
              "      <td>1.0</td>\n",
              "      <td>0.000586</td>\n",
              "      <td>1.000000</td>\n",
              "      <td>0.000586</td>\n",
              "      <td>1.0</td>\n",
              "      <td>0.000586</td>\n",
              "      <td>1.000000</td>\n",
              "      <td>0.000586</td>\n",
              "      <td>1.0</td>\n",
              "      <td>0.000586</td>\n",
              "      <td>1.0</td>\n",
              "      <td>0.000586</td>\n",
              "      <td>1.000000</td>\n",
              "      <td>0.000586</td>\n",
              "      <td>1.0</td>\n",
              "      <td>0.000586</td>\n",
              "    </tr>\n",
              "    <tr>\n",
              "      <th>9976</th>\n",
              "      <td>Gene9982</td>\n",
              "      <td>0.017563</td>\n",
              "      <td>False</td>\n",
              "      <td>1.0</td>\n",
              "      <td>0.017563</td>\n",
              "      <td>True</td>\n",
              "      <td>0.108663</td>\n",
              "      <td>1.000000</td>\n",
              "      <td>0.017563</td>\n",
              "      <td>1.0</td>\n",
              "      <td>0.017563</td>\n",
              "      <td>1.000000</td>\n",
              "      <td>0.017563</td>\n",
              "      <td>1.0</td>\n",
              "      <td>0.017563</td>\n",
              "      <td>1.000000</td>\n",
              "      <td>0.017563</td>\n",
              "      <td>1.0</td>\n",
              "      <td>0.017563</td>\n",
              "      <td>1.0</td>\n",
              "      <td>0.017563</td>\n",
              "      <td>1.000000</td>\n",
              "      <td>0.017563</td>\n",
              "      <td>1.0</td>\n",
              "      <td>0.017563</td>\n",
              "    </tr>\n",
              "    <tr>\n",
              "      <th>9977</th>\n",
              "      <td>Gene9983</td>\n",
              "      <td>0.059271</td>\n",
              "      <td>False</td>\n",
              "      <td>1.0</td>\n",
              "      <td>0.059271</td>\n",
              "      <td>True</td>\n",
              "      <td>0.079725</td>\n",
              "      <td>1.000000</td>\n",
              "      <td>0.059271</td>\n",
              "      <td>1.0</td>\n",
              "      <td>0.059271</td>\n",
              "      <td>1.000000</td>\n",
              "      <td>0.059271</td>\n",
              "      <td>1.0</td>\n",
              "      <td>0.059271</td>\n",
              "      <td>1.000000</td>\n",
              "      <td>0.059271</td>\n",
              "      <td>1.0</td>\n",
              "      <td>0.059271</td>\n",
              "      <td>1.0</td>\n",
              "      <td>0.059271</td>\n",
              "      <td>1.000000</td>\n",
              "      <td>0.059271</td>\n",
              "      <td>1.0</td>\n",
              "      <td>0.059271</td>\n",
              "    </tr>\n",
              "    <tr>\n",
              "      <th>9978</th>\n",
              "      <td>Gene9984</td>\n",
              "      <td>0.005010</td>\n",
              "      <td>False</td>\n",
              "      <td>1.0</td>\n",
              "      <td>0.005010</td>\n",
              "      <td>True</td>\n",
              "      <td>0.014471</td>\n",
              "      <td>1.000000</td>\n",
              "      <td>0.005010</td>\n",
              "      <td>1.0</td>\n",
              "      <td>0.005010</td>\n",
              "      <td>1.000000</td>\n",
              "      <td>0.005010</td>\n",
              "      <td>1.0</td>\n",
              "      <td>0.005010</td>\n",
              "      <td>1.000000</td>\n",
              "      <td>0.005010</td>\n",
              "      <td>1.0</td>\n",
              "      <td>0.005010</td>\n",
              "      <td>1.0</td>\n",
              "      <td>0.005010</td>\n",
              "      <td>1.000000</td>\n",
              "      <td>0.005010</td>\n",
              "      <td>1.0</td>\n",
              "      <td>0.005010</td>\n",
              "    </tr>\n",
              "    <tr>\n",
              "      <th>9979</th>\n",
              "      <td>Gene9985</td>\n",
              "      <td>0.369975</td>\n",
              "      <td>False</td>\n",
              "      <td>1.0</td>\n",
              "      <td>0.369975</td>\n",
              "      <td>True</td>\n",
              "      <td>0.790951</td>\n",
              "      <td>1.000000</td>\n",
              "      <td>0.369975</td>\n",
              "      <td>1.0</td>\n",
              "      <td>0.369975</td>\n",
              "      <td>1.000000</td>\n",
              "      <td>0.369975</td>\n",
              "      <td>1.0</td>\n",
              "      <td>0.369975</td>\n",
              "      <td>1.000000</td>\n",
              "      <td>0.369975</td>\n",
              "      <td>1.0</td>\n",
              "      <td>0.369975</td>\n",
              "      <td>1.0</td>\n",
              "      <td>0.369975</td>\n",
              "      <td>1.000000</td>\n",
              "      <td>0.369975</td>\n",
              "      <td>1.0</td>\n",
              "      <td>0.369975</td>\n",
              "    </tr>\n",
              "    <tr>\n",
              "      <th>9980</th>\n",
              "      <td>Gene9986</td>\n",
              "      <td>0.076733</td>\n",
              "      <td>False</td>\n",
              "      <td>1.0</td>\n",
              "      <td>0.076733</td>\n",
              "      <td>True</td>\n",
              "      <td>0.112547</td>\n",
              "      <td>1.000000</td>\n",
              "      <td>0.076733</td>\n",
              "      <td>1.0</td>\n",
              "      <td>0.076733</td>\n",
              "      <td>1.000000</td>\n",
              "      <td>0.076733</td>\n",
              "      <td>1.0</td>\n",
              "      <td>0.076733</td>\n",
              "      <td>1.000000</td>\n",
              "      <td>0.076733</td>\n",
              "      <td>1.0</td>\n",
              "      <td>0.076733</td>\n",
              "      <td>1.0</td>\n",
              "      <td>0.076733</td>\n",
              "      <td>1.000000</td>\n",
              "      <td>0.076733</td>\n",
              "      <td>1.0</td>\n",
              "      <td>0.076733</td>\n",
              "    </tr>\n",
              "    <tr>\n",
              "      <th>9981</th>\n",
              "      <td>Gene9987</td>\n",
              "      <td>0.027156</td>\n",
              "      <td>False</td>\n",
              "      <td>1.0</td>\n",
              "      <td>0.027156</td>\n",
              "      <td>True</td>\n",
              "      <td>0.065147</td>\n",
              "      <td>1.000000</td>\n",
              "      <td>0.027156</td>\n",
              "      <td>1.0</td>\n",
              "      <td>0.027156</td>\n",
              "      <td>1.000000</td>\n",
              "      <td>0.027156</td>\n",
              "      <td>1.0</td>\n",
              "      <td>0.027156</td>\n",
              "      <td>1.000000</td>\n",
              "      <td>0.027156</td>\n",
              "      <td>1.0</td>\n",
              "      <td>0.027156</td>\n",
              "      <td>1.0</td>\n",
              "      <td>0.027156</td>\n",
              "      <td>1.000000</td>\n",
              "      <td>0.027156</td>\n",
              "      <td>1.0</td>\n",
              "      <td>0.027156</td>\n",
              "    </tr>\n",
              "    <tr>\n",
              "      <th>9982</th>\n",
              "      <td>Gene9988</td>\n",
              "      <td>0.077916</td>\n",
              "      <td>False</td>\n",
              "      <td>1.0</td>\n",
              "      <td>0.077916</td>\n",
              "      <td>True</td>\n",
              "      <td>0.403710</td>\n",
              "      <td>1.000000</td>\n",
              "      <td>0.077916</td>\n",
              "      <td>1.0</td>\n",
              "      <td>0.077916</td>\n",
              "      <td>1.000000</td>\n",
              "      <td>0.077916</td>\n",
              "      <td>1.0</td>\n",
              "      <td>0.077916</td>\n",
              "      <td>1.000000</td>\n",
              "      <td>0.077916</td>\n",
              "      <td>1.0</td>\n",
              "      <td>0.077916</td>\n",
              "      <td>1.0</td>\n",
              "      <td>0.077916</td>\n",
              "      <td>1.000000</td>\n",
              "      <td>0.077916</td>\n",
              "      <td>1.0</td>\n",
              "      <td>0.077916</td>\n",
              "    </tr>\n",
              "    <tr>\n",
              "      <th>9983</th>\n",
              "      <td>Gene9989</td>\n",
              "      <td>0.042356</td>\n",
              "      <td>False</td>\n",
              "      <td>1.0</td>\n",
              "      <td>0.042356</td>\n",
              "      <td>True</td>\n",
              "      <td>0.163169</td>\n",
              "      <td>1.000000</td>\n",
              "      <td>0.042356</td>\n",
              "      <td>1.0</td>\n",
              "      <td>0.042356</td>\n",
              "      <td>1.000000</td>\n",
              "      <td>0.042356</td>\n",
              "      <td>1.0</td>\n",
              "      <td>0.042356</td>\n",
              "      <td>1.000000</td>\n",
              "      <td>0.042356</td>\n",
              "      <td>1.0</td>\n",
              "      <td>0.042356</td>\n",
              "      <td>1.0</td>\n",
              "      <td>0.042356</td>\n",
              "      <td>1.000000</td>\n",
              "      <td>0.042356</td>\n",
              "      <td>1.0</td>\n",
              "      <td>0.042356</td>\n",
              "    </tr>\n",
              "    <tr>\n",
              "      <th>9984</th>\n",
              "      <td>Gene9990</td>\n",
              "      <td>0.000386</td>\n",
              "      <td>False</td>\n",
              "      <td>1.0</td>\n",
              "      <td>0.000386</td>\n",
              "      <td>True</td>\n",
              "      <td>0.002687</td>\n",
              "      <td>1.000000</td>\n",
              "      <td>0.000386</td>\n",
              "      <td>1.0</td>\n",
              "      <td>0.000386</td>\n",
              "      <td>1.000000</td>\n",
              "      <td>0.000386</td>\n",
              "      <td>1.0</td>\n",
              "      <td>0.000386</td>\n",
              "      <td>1.000000</td>\n",
              "      <td>0.000386</td>\n",
              "      <td>1.0</td>\n",
              "      <td>0.000386</td>\n",
              "      <td>1.0</td>\n",
              "      <td>0.000386</td>\n",
              "      <td>1.000000</td>\n",
              "      <td>0.000386</td>\n",
              "      <td>1.0</td>\n",
              "      <td>0.000386</td>\n",
              "    </tr>\n",
              "    <tr>\n",
              "      <th>9985</th>\n",
              "      <td>Gene9991</td>\n",
              "      <td>0.051168</td>\n",
              "      <td>False</td>\n",
              "      <td>1.0</td>\n",
              "      <td>0.051168</td>\n",
              "      <td>True</td>\n",
              "      <td>0.056034</td>\n",
              "      <td>1.000000</td>\n",
              "      <td>0.051168</td>\n",
              "      <td>1.0</td>\n",
              "      <td>0.051168</td>\n",
              "      <td>1.000000</td>\n",
              "      <td>0.051168</td>\n",
              "      <td>1.0</td>\n",
              "      <td>0.051168</td>\n",
              "      <td>1.000000</td>\n",
              "      <td>0.051168</td>\n",
              "      <td>1.0</td>\n",
              "      <td>0.051168</td>\n",
              "      <td>1.0</td>\n",
              "      <td>0.051168</td>\n",
              "      <td>1.000000</td>\n",
              "      <td>0.051168</td>\n",
              "      <td>1.0</td>\n",
              "      <td>0.051168</td>\n",
              "    </tr>\n",
              "    <tr>\n",
              "      <th>9986</th>\n",
              "      <td>Gene9992</td>\n",
              "      <td>0.002703</td>\n",
              "      <td>False</td>\n",
              "      <td>1.0</td>\n",
              "      <td>0.002703</td>\n",
              "      <td>True</td>\n",
              "      <td>0.014278</td>\n",
              "      <td>1.000000</td>\n",
              "      <td>0.002703</td>\n",
              "      <td>1.0</td>\n",
              "      <td>0.002703</td>\n",
              "      <td>1.000000</td>\n",
              "      <td>0.002703</td>\n",
              "      <td>1.0</td>\n",
              "      <td>0.002703</td>\n",
              "      <td>1.000000</td>\n",
              "      <td>0.002703</td>\n",
              "      <td>1.0</td>\n",
              "      <td>0.002703</td>\n",
              "      <td>1.0</td>\n",
              "      <td>0.002703</td>\n",
              "      <td>1.000000</td>\n",
              "      <td>0.002703</td>\n",
              "      <td>1.0</td>\n",
              "      <td>0.002703</td>\n",
              "    </tr>\n",
              "    <tr>\n",
              "      <th>9987</th>\n",
              "      <td>Gene9993</td>\n",
              "      <td>0.005689</td>\n",
              "      <td>False</td>\n",
              "      <td>1.0</td>\n",
              "      <td>0.005689</td>\n",
              "      <td>True</td>\n",
              "      <td>0.140406</td>\n",
              "      <td>1.000000</td>\n",
              "      <td>0.005689</td>\n",
              "      <td>1.0</td>\n",
              "      <td>0.005689</td>\n",
              "      <td>1.000000</td>\n",
              "      <td>0.005689</td>\n",
              "      <td>1.0</td>\n",
              "      <td>0.005689</td>\n",
              "      <td>1.000000</td>\n",
              "      <td>0.005689</td>\n",
              "      <td>1.0</td>\n",
              "      <td>0.005689</td>\n",
              "      <td>1.0</td>\n",
              "      <td>0.005689</td>\n",
              "      <td>1.000000</td>\n",
              "      <td>0.005689</td>\n",
              "      <td>1.0</td>\n",
              "      <td>0.005689</td>\n",
              "    </tr>\n",
              "    <tr>\n",
              "      <th>9988</th>\n",
              "      <td>Gene9994</td>\n",
              "      <td>0.080363</td>\n",
              "      <td>False</td>\n",
              "      <td>1.0</td>\n",
              "      <td>0.080363</td>\n",
              "      <td>True</td>\n",
              "      <td>0.140527</td>\n",
              "      <td>1.000000</td>\n",
              "      <td>0.080363</td>\n",
              "      <td>1.0</td>\n",
              "      <td>0.080363</td>\n",
              "      <td>1.000000</td>\n",
              "      <td>0.080363</td>\n",
              "      <td>1.0</td>\n",
              "      <td>0.080363</td>\n",
              "      <td>1.000000</td>\n",
              "      <td>0.080363</td>\n",
              "      <td>1.0</td>\n",
              "      <td>0.080363</td>\n",
              "      <td>1.0</td>\n",
              "      <td>0.080363</td>\n",
              "      <td>1.000000</td>\n",
              "      <td>0.080363</td>\n",
              "      <td>1.0</td>\n",
              "      <td>0.080363</td>\n",
              "    </tr>\n",
              "    <tr>\n",
              "      <th>9989</th>\n",
              "      <td>Gene9995</td>\n",
              "      <td>0.000051</td>\n",
              "      <td>False</td>\n",
              "      <td>1.0</td>\n",
              "      <td>0.000051</td>\n",
              "      <td>True</td>\n",
              "      <td>0.000078</td>\n",
              "      <td>1.000000</td>\n",
              "      <td>0.000051</td>\n",
              "      <td>1.0</td>\n",
              "      <td>0.000051</td>\n",
              "      <td>1.000000</td>\n",
              "      <td>0.000051</td>\n",
              "      <td>1.0</td>\n",
              "      <td>0.000051</td>\n",
              "      <td>1.000000</td>\n",
              "      <td>0.000051</td>\n",
              "      <td>1.0</td>\n",
              "      <td>0.000051</td>\n",
              "      <td>1.0</td>\n",
              "      <td>0.000051</td>\n",
              "      <td>1.000000</td>\n",
              "      <td>0.000051</td>\n",
              "      <td>1.0</td>\n",
              "      <td>0.000051</td>\n",
              "    </tr>\n",
              "    <tr>\n",
              "      <th>9990</th>\n",
              "      <td>Gene9996</td>\n",
              "      <td>0.030271</td>\n",
              "      <td>False</td>\n",
              "      <td>1.0</td>\n",
              "      <td>0.030271</td>\n",
              "      <td>True</td>\n",
              "      <td>0.074309</td>\n",
              "      <td>1.000000</td>\n",
              "      <td>0.030271</td>\n",
              "      <td>1.0</td>\n",
              "      <td>0.030271</td>\n",
              "      <td>1.000000</td>\n",
              "      <td>0.030271</td>\n",
              "      <td>1.0</td>\n",
              "      <td>0.030271</td>\n",
              "      <td>1.000000</td>\n",
              "      <td>0.030271</td>\n",
              "      <td>1.0</td>\n",
              "      <td>0.030271</td>\n",
              "      <td>1.0</td>\n",
              "      <td>0.030271</td>\n",
              "      <td>1.000000</td>\n",
              "      <td>0.030271</td>\n",
              "      <td>1.0</td>\n",
              "      <td>0.030271</td>\n",
              "    </tr>\n",
              "    <tr>\n",
              "      <th>9991</th>\n",
              "      <td>Gene9997</td>\n",
              "      <td>0.051995</td>\n",
              "      <td>False</td>\n",
              "      <td>1.0</td>\n",
              "      <td>0.051995</td>\n",
              "      <td>True</td>\n",
              "      <td>0.108851</td>\n",
              "      <td>1.000000</td>\n",
              "      <td>0.051995</td>\n",
              "      <td>1.0</td>\n",
              "      <td>0.051995</td>\n",
              "      <td>1.000000</td>\n",
              "      <td>0.051995</td>\n",
              "      <td>1.0</td>\n",
              "      <td>0.051995</td>\n",
              "      <td>1.000000</td>\n",
              "      <td>0.051995</td>\n",
              "      <td>1.0</td>\n",
              "      <td>0.051995</td>\n",
              "      <td>1.0</td>\n",
              "      <td>0.051995</td>\n",
              "      <td>1.000000</td>\n",
              "      <td>0.051995</td>\n",
              "      <td>1.0</td>\n",
              "      <td>0.051995</td>\n",
              "    </tr>\n",
              "    <tr>\n",
              "      <th>9992</th>\n",
              "      <td>Gene9998</td>\n",
              "      <td>0.048431</td>\n",
              "      <td>False</td>\n",
              "      <td>1.0</td>\n",
              "      <td>0.048431</td>\n",
              "      <td>True</td>\n",
              "      <td>0.093642</td>\n",
              "      <td>1.000000</td>\n",
              "      <td>0.048431</td>\n",
              "      <td>1.0</td>\n",
              "      <td>0.048431</td>\n",
              "      <td>1.000000</td>\n",
              "      <td>0.048431</td>\n",
              "      <td>1.0</td>\n",
              "      <td>0.048431</td>\n",
              "      <td>1.000000</td>\n",
              "      <td>0.048431</td>\n",
              "      <td>1.0</td>\n",
              "      <td>0.048431</td>\n",
              "      <td>1.0</td>\n",
              "      <td>0.048431</td>\n",
              "      <td>1.000000</td>\n",
              "      <td>0.048431</td>\n",
              "      <td>1.0</td>\n",
              "      <td>0.048431</td>\n",
              "    </tr>\n",
              "    <tr>\n",
              "      <th>9993</th>\n",
              "      <td>Gene9999</td>\n",
              "      <td>0.000416</td>\n",
              "      <td>False</td>\n",
              "      <td>1.0</td>\n",
              "      <td>0.000416</td>\n",
              "      <td>True</td>\n",
              "      <td>0.000827</td>\n",
              "      <td>1.000000</td>\n",
              "      <td>0.000416</td>\n",
              "      <td>1.0</td>\n",
              "      <td>0.000416</td>\n",
              "      <td>1.000000</td>\n",
              "      <td>0.000416</td>\n",
              "      <td>1.0</td>\n",
              "      <td>0.000416</td>\n",
              "      <td>1.000000</td>\n",
              "      <td>0.000416</td>\n",
              "      <td>1.0</td>\n",
              "      <td>0.000416</td>\n",
              "      <td>1.0</td>\n",
              "      <td>0.000416</td>\n",
              "      <td>1.000000</td>\n",
              "      <td>0.000416</td>\n",
              "      <td>1.0</td>\n",
              "      <td>0.000416</td>\n",
              "    </tr>\n",
              "    <tr>\n",
              "      <th>9994</th>\n",
              "      <td>Gene10000</td>\n",
              "      <td>0.081873</td>\n",
              "      <td>False</td>\n",
              "      <td>1.0</td>\n",
              "      <td>0.081873</td>\n",
              "      <td>True</td>\n",
              "      <td>0.173151</td>\n",
              "      <td>1.000000</td>\n",
              "      <td>0.081873</td>\n",
              "      <td>1.0</td>\n",
              "      <td>0.081873</td>\n",
              "      <td>1.000000</td>\n",
              "      <td>0.081873</td>\n",
              "      <td>1.0</td>\n",
              "      <td>0.081873</td>\n",
              "      <td>1.000000</td>\n",
              "      <td>0.081873</td>\n",
              "      <td>1.0</td>\n",
              "      <td>0.081873</td>\n",
              "      <td>1.0</td>\n",
              "      <td>0.081873</td>\n",
              "      <td>1.000000</td>\n",
              "      <td>0.081873</td>\n",
              "      <td>1.0</td>\n",
              "      <td>0.081873</td>\n",
              "    </tr>\n",
              "  </tbody>\n",
              "</table>\n",
              "<p>9995 rows × 25 columns</p>\n",
              "</div>"
            ],
            "text/plain": [
              "     Unnamed: 0  BaseGeneMean  ...  group9_DEratio  group9_genemean\n",
              "0         Gene1      0.000301  ...             1.0         0.000301\n",
              "1         Gene2      0.000286  ...             1.0         0.000286\n",
              "2         Gene3      0.028388  ...             1.0         0.028388\n",
              "3         Gene4      0.027228  ...             1.0         0.027228\n",
              "4         Gene5      0.002961  ...             1.0         0.002961\n",
              "5         Gene6      0.019548  ...             1.0         0.019548\n",
              "6         Gene7      0.014260  ...             1.0         0.014260\n",
              "7         Gene8      0.000009  ...             1.0         0.000009\n",
              "8         Gene9      0.255918  ...             1.0         0.255918\n",
              "9        Gene10      0.000361  ...             1.0         0.000361\n",
              "10       Gene11      0.004006  ...             1.0         0.004006\n",
              "11       Gene12      0.078263  ...             1.0         0.078263\n",
              "12       Gene13      0.020788  ...             1.0         0.020788\n",
              "13       Gene14      0.000869  ...             1.0         0.000869\n",
              "14       Gene15      0.003637  ...             1.0         0.003637\n",
              "15       Gene16      0.002135  ...             1.0         0.002135\n",
              "16       Gene17      0.016221  ...             1.0         0.016221\n",
              "17       Gene18      0.002606  ...             1.0         0.002606\n",
              "18       Gene19      0.004845  ...             1.0         0.004845\n",
              "19       Gene20      0.093906  ...             1.0         0.093906\n",
              "20       Gene21      0.007092  ...             1.0         0.007092\n",
              "21       Gene22      0.000115  ...             1.0         0.000115\n",
              "22       Gene23      0.001110  ...             1.0         0.001110\n",
              "23       Gene24      0.007844  ...             1.0         0.007844\n",
              "24       Gene25      0.039936  ...             1.0         0.039936\n",
              "25       Gene26      0.164273  ...             1.0         0.164273\n",
              "26       Gene27      0.079189  ...             1.0         0.079189\n",
              "27       Gene28      0.087537  ...             1.0         0.087537\n",
              "28       Gene29      0.000638  ...             1.0         0.000638\n",
              "29       Gene30      0.047708  ...             1.0         0.047708\n",
              "...         ...           ...  ...             ...              ...\n",
              "9965   Gene9971      0.001294  ...             1.0         0.001294\n",
              "9966   Gene9972      0.000035  ...             1.0         0.000035\n",
              "9967   Gene9973      0.068947  ...             1.0         0.068947\n",
              "9968   Gene9974      0.006542  ...             1.0         0.006542\n",
              "9969   Gene9975      0.000003  ...             1.0         0.000003\n",
              "9970   Gene9976      0.111683  ...             1.0         0.111683\n",
              "9971   Gene9977      0.017487  ...             1.0         0.017487\n",
              "9972   Gene9978      0.000055  ...             1.0         0.000055\n",
              "9973   Gene9979      0.000828  ...             1.0         0.000828\n",
              "9974   Gene9980      0.010005  ...             1.0         0.010005\n",
              "9975   Gene9981      0.000586  ...             1.0         0.000586\n",
              "9976   Gene9982      0.017563  ...             1.0         0.017563\n",
              "9977   Gene9983      0.059271  ...             1.0         0.059271\n",
              "9978   Gene9984      0.005010  ...             1.0         0.005010\n",
              "9979   Gene9985      0.369975  ...             1.0         0.369975\n",
              "9980   Gene9986      0.076733  ...             1.0         0.076733\n",
              "9981   Gene9987      0.027156  ...             1.0         0.027156\n",
              "9982   Gene9988      0.077916  ...             1.0         0.077916\n",
              "9983   Gene9989      0.042356  ...             1.0         0.042356\n",
              "9984   Gene9990      0.000386  ...             1.0         0.000386\n",
              "9985   Gene9991      0.051168  ...             1.0         0.051168\n",
              "9986   Gene9992      0.002703  ...             1.0         0.002703\n",
              "9987   Gene9993      0.005689  ...             1.0         0.005689\n",
              "9988   Gene9994      0.080363  ...             1.0         0.080363\n",
              "9989   Gene9995      0.000051  ...             1.0         0.000051\n",
              "9990   Gene9996      0.030271  ...             1.0         0.030271\n",
              "9991   Gene9997      0.051995  ...             1.0         0.051995\n",
              "9992   Gene9998      0.048431  ...             1.0         0.048431\n",
              "9993   Gene9999      0.000416  ...             1.0         0.000416\n",
              "9994  Gene10000      0.081873  ...             1.0         0.081873\n",
              "\n",
              "[9995 rows x 25 columns]"
            ]
          },
          "metadata": {
            "tags": []
          },
          "execution_count": 13
        }
      ]
    },
    {
      "cell_type": "code",
      "metadata": {
        "id": "uJKoWATQe2NR",
        "colab_type": "code",
        "colab": {}
      },
      "source": [
        "tsne=pd.read_csv(\"./example_data/tsne.txt\",delimiter=\"\\t\")"
      ],
      "execution_count": 0,
      "outputs": []
    },
    {
      "cell_type": "code",
      "metadata": {
        "id": "UGDG4WWqe5_K",
        "colab_type": "code",
        "colab": {}
      },
      "source": [
        "T = tsne.values[:,1:].astype(np.float32)"
      ],
      "execution_count": 0,
      "outputs": []
    },
    {
      "cell_type": "code",
      "metadata": {
        "id": "y_Fw6RHKfIIc",
        "colab_type": "code",
        "outputId": "272250a2-3915-4b4a-9262-08d8808b2da2",
        "colab": {
          "base_uri": "https://localhost:8080/",
          "height": 286
        }
      },
      "source": [
        "plt.scatter(T[:,0], T[:,1])"
      ],
      "execution_count": 0,
      "outputs": [
        {
          "output_type": "execute_result",
          "data": {
            "text/plain": [
              "<matplotlib.collections.PathCollection at 0x7f3cd87ece48>"
            ]
          },
          "metadata": {
            "tags": []
          },
          "execution_count": 23
        },
        {
          "output_type": "display_data",
          "data": {
            "image/png": "[encoded data removed]",
            "text/plain": [
              "<Figure size 432x288 with 1 Axes>"
            ]
          },
          "metadata": {
            "tags": []
          }
        }
      ]
    },
    {
      "cell_type": "code",
      "metadata": {
        "id": "M-c-_Pdl2_1u",
        "colab_type": "code",
        "outputId": "5643e42c-2f2e-4972-efce-59e50b5561c0",
        "colab": {
          "base_uri": "https://localhost:8080/",
          "height": 527
        }
      },
      "source": [
        "import sys, subprocess, shutil\n",
        "IN_COLAB = 'google.colab' in sys.modules\n",
        "print('Using colab?: {}'.format(IN_COLAB))\n",
        "def run_cmd(cmd):\n",
        "    print('Output of \"{}\":'.format(cmd))\n",
        "    print(subprocess.run(cmd,stdout=subprocess.PIPE, shell=True).stdout.decode('utf-8'))\n",
        "        \n",
        "if IN_COLAB:\n",
        "    run_cmd('sudo apt-get install git-lfs')\n",
        "    run_cmd('git lfs install')\n",
        "    run_cmd('rm -rf NMFreg_tutorial')\n",
        "    run_cmd('git clone --verbose --progress https://github.com/tudaga/NMFreg_tutorial.git')\n",
        "    run_cmd('mv NMFreg_tutorial/* .')\n",
        "    run_cmd('rm -r NMFreg_tutorial')"
      ],
      "execution_count": 0,
      "outputs": [
        {
          "output_type": "stream",
          "text": [
            "Using colab?: True\n",
            "Output of \"sudo apt-get install git-lfs\":\n",
            "Reading package lists...\n",
            "Building dependency tree...\n",
            "Reading state information...\n",
            "The following NEW packages will be installed:\n",
            "  git-lfs\n",
            "0 upgraded, 1 newly installed, 0 to remove and 8 not upgraded.\n",
            "Need to get 2,129 kB of archives.\n",
            "After this operation, 7,662 kB of additional disk space will be used.\n",
            "Get:1 http://archive.ubuntu.com/ubuntu bionic/universe amd64 git-lfs amd64 2.3.4-1 [2,129 kB]\n",
            "Fetched 2,129 kB in 3s (816 kB/s)\n",
            "Selecting previously unselected package git-lfs.\n",
            "(Reading database ... 131183 files and directories currently installed.)\n",
            "Preparing to unpack .../git-lfs_2.3.4-1_amd64.deb ...\n",
            "Unpacking git-lfs (2.3.4-1) ...\n",
            "Setting up git-lfs (2.3.4-1) ...\n",
            "Processing triggers for man-db (2.8.3-2ubuntu0.1) ...\n",
            "\n",
            "Output of \"git lfs install\":\n",
            "Git LFS initialized.\n",
            "\n",
            "Output of \"rm -rf NMFreg_tutorial\":\n",
            "\n",
            "Output of \"git clone --verbose --progress https://github.com/tudaga/NMFreg_tutorial.git\":\n",
            "\n",
            "Output of \"mv NMFreg_tutorial/* .\":\n",
            "\n",
            "Output of \"rm -r NMFreg_tutorial\":\n",
            "\n"
          ],
          "name": "stdout"
        }
      ]
    },
    {
      "cell_type": "code",
      "metadata": {
        "id": "xJWIN5113DTO",
        "colab_type": "code",
        "outputId": "db307262-4705-4bbf-8893-3216ae340615",
        "colab": {
          "base_uri": "https://localhost:8080/",
          "height": 34
        }
      },
      "source": [
        "import pandas as pd\n",
        "import numpy as np\n",
        "import os\n",
        "from IPython.display import display\n",
        "import seaborn as sns\n",
        "import scipy.stats\n",
        "import scipy.optimize\n",
        "from tqdm import tqdm\n",
        "from sklearn.preprocessing import StandardScaler\n",
        "from sklearn.decomposition import NMF\n",
        "from matplotlib import colors\n",
        "import matplotlib.patches as mpatches\n",
        "import collections\n",
        "\n",
        "%pylab inline\n",
        "\n",
        "rcParams['axes.spines.right'] = False\n",
        "rcParams['axes.spines.top'] = False"
      ],
      "execution_count": 0,
      "outputs": [
        {
          "output_type": "stream",
          "text": [
            "Populating the interactive namespace from numpy and matplotlib\n"
          ],
          "name": "stdout"
        }
      ]
    },
    {
      "cell_type": "markdown",
      "metadata": {
        "id": "pXQG7VtQVk6Z",
        "colab_type": "text"
      },
      "source": [
        "Variational Autoencoder Model (VAE) with latent subspaces based on:\n",
        "https://arxiv.org/pdf/1812.06190.pdf"
      ]
    },
    {
      "cell_type": "code",
      "metadata": {
        "id": "FoHKVVhU3JDm",
        "colab_type": "code",
        "colab": {}
      },
      "source": [
        "data_path = \"data\""
      ],
      "execution_count": 0,
      "outputs": []
    },
    {
      "cell_type": "code",
      "metadata": {
        "id": "NixNrc8f3Kg6",
        "colab_type": "code",
        "outputId": "c4a43dc1-a6bd-4106-8460-4760b43de127",
        "colab": {
          "base_uri": "https://localhost:8080/",
          "height": 221
        }
      },
      "source": [
        "puck_coords_path = os.path.join(data_path, \"coords.csv\")\n",
        "coords = pd.read_csv(puck_coords_path)\n",
        "print(coords.shape)\n",
        "coords.head()"
      ],
      "execution_count": 0,
      "outputs": [
        {
          "output_type": "stream",
          "text": [
            "(27261, 3)\n"
          ],
          "name": "stdout"
        },
        {
          "output_type": "execute_result",
          "data": {
            "text/html": [
              "<div>\n",
              "<style scoped>\n",
              "    .dataframe tbody tr th:only-of-type {\n",
              "        vertical-align: middle;\n",
              "    }\n",
              "\n",
              "    .dataframe tbody tr th {\n",
              "        vertical-align: top;\n",
              "    }\n",
              "\n",
              "    .dataframe thead th {\n",
              "        text-align: right;\n",
              "    }\n",
              "</style>\n",
              "<table border=\"1\" class=\"dataframe\">\n",
              "  <thead>\n",
              "    <tr style=\"text-align: right;\">\n",
              "      <th></th>\n",
              "      <th>barcode</th>\n",
              "      <th>x</th>\n",
              "      <th>y</th>\n",
              "    </tr>\n",
              "  </thead>\n",
              "  <tbody>\n",
              "    <tr>\n",
              "      <th>0</th>\n",
              "      <td>TTCTCCAAGGCCG</td>\n",
              "      <td>1478.453901</td>\n",
              "      <td>1810.524823</td>\n",
              "    </tr>\n",
              "    <tr>\n",
              "      <th>1</th>\n",
              "      <td>TACTAAAGAATTA</td>\n",
              "      <td>2224.000000</td>\n",
              "      <td>1230.397849</td>\n",
              "    </tr>\n",
              "    <tr>\n",
              "      <th>2</th>\n",
              "      <td>TCTCTTAGTTGGC</td>\n",
              "      <td>1914.742424</td>\n",
              "      <td>2221.954545</td>\n",
              "    </tr>\n",
              "    <tr>\n",
              "      <th>3</th>\n",
              "      <td>GCTTTTCGTTCCC</td>\n",
              "      <td>1682.151515</td>\n",
              "      <td>3886.575758</td>\n",
              "    </tr>\n",
              "    <tr>\n",
              "      <th>4</th>\n",
              "      <td>TACGGGCGAAAAG</td>\n",
              "      <td>2416.261194</td>\n",
              "      <td>4216.902985</td>\n",
              "    </tr>\n",
              "  </tbody>\n",
              "</table>\n",
              "</div>"
            ],
            "text/plain": [
              "         barcode            x            y\n",
              "0  TTCTCCAAGGCCG  1478.453901  1810.524823\n",
              "1  TACTAAAGAATTA  2224.000000  1230.397849\n",
              "2  TCTCTTAGTTGGC  1914.742424  2221.954545\n",
              "3  GCTTTTCGTTCCC  1682.151515  3886.575758\n",
              "4  TACGGGCGAAAAG  2416.261194  4216.902985"
            ]
          },
          "metadata": {
            "tags": []
          },
          "execution_count": 4
        }
      ]
    },
    {
      "cell_type": "code",
      "metadata": {
        "id": "ZXBZCT_Svlx6",
        "colab_type": "code",
        "outputId": "2639c274-a518-4a58-dc6c-557ff00ae5fe",
        "colab": {
          "base_uri": "https://localhost:8080/",
          "height": 1000
        }
      },
      "source": [
        "coords.tail"
      ],
      "execution_count": 0,
      "outputs": [
        {
          "output_type": "execute_result",
          "data": {
            "text/plain": [
              "<bound method NDFrame.tail of              barcode            x            y\n",
              "0      TTCTCCAAGGCCG  1478.453901  1810.524823\n",
              "1      TACTAAAGAATTA  2224.000000  1230.397849\n",
              "2      TCTCTTAGTTGGC  1914.742424  2221.954545\n",
              "3      GCTTTTCGTTCCC  1682.151515  3886.575758\n",
              "4      TACGGGCGAAAAG  2416.261194  4216.902985\n",
              "5      GTACCCTTCCGGG  3913.880342  1899.717949\n",
              "6      TGGCCCTTGGAAC  1687.000000  3896.016393\n",
              "7      ATGAAAATTTACG  4011.936170  1933.191489\n",
              "8      AGGATTCGAAGTG  1488.681818  3711.649351\n",
              "9      ATGTAACGTTGTC  1397.098765  3855.172840\n",
              "10     GCACAAGGAAGTG  2520.027778  2388.430556\n",
              "11     CATGCCGCTTGTA  1692.600000  3807.973333\n",
              "12     ATCCTTTGCCACT  1529.016949  3859.152542\n",
              "13     TTGCAACTGGAGT  2133.807692   856.788462\n",
              "14     GATGTTTCCCAGG  2271.038462   747.000000\n",
              "15     GAACGGGGGGTAT  3466.702128  4754.265957\n",
              "16     GGGACAAGGGGGG  1683.463768  3738.166667\n",
              "17     TGCGTGAAGGAAG  2584.092199  3640.815603\n",
              "18     TCTCCAAAGGAAT  5070.902913  3673.932039\n",
              "19     TGCCCACTTTAAC  1609.901639  3880.606557\n",
              "20     GACAACCATTAAG  1641.352273  3838.113636\n",
              "21     TACGCAGACCCCA  3346.043478  3315.108696\n",
              "22     TTCTACTGAACCG  4333.483051  4552.644068\n",
              "23     ACTCCACGTTGTT  1084.196429  3341.142857\n",
              "24     GGATGTCACCGTA  1104.454545  3269.927273\n",
              "25     GGCAACGTGGCAC  1638.711538  2326.961538\n",
              "26     TAGCCAGGGGGTC  2214.310345   903.775862\n",
              "27     ATCGTGTTCCCAA  1641.918367  2307.877551\n",
              "28     AGGCACTCGGGTT  1651.362832  3713.734513\n",
              "29     AGATGTTGTTGTC  4267.813665  4563.204969\n",
              "...              ...          ...          ...\n",
              "27231  TAATCGTCGCGCC  2723.253521  4903.007042\n",
              "27232  GACCATTCGCTAA  1246.877551  2716.622449\n",
              "27233  TGTATATCGCCGG  2119.363184  4850.517413\n",
              "27234  TTCCTATCGCATT  4229.888000  3229.732000\n",
              "27235  GAGCCGTCGCTAA  2559.273810  2084.654762\n",
              "27236  CCCCATTATAATT  2155.506787  3327.176471\n",
              "27237  AGTAATTATACGG  1901.217877  1682.497207\n",
              "27238  AGCCTATATATAA  4905.554839  1988.206452\n",
              "27239  ATTCCATTATATG  4618.682028  4140.811060\n",
              "27240  GGACATTGCGCGT  4435.737089  4635.239437\n",
              "27241  ACGGTATCGCATG  2124.107143   938.714286\n",
              "27242  ATGCGCTATATAC  2962.248521  2184.201183\n",
              "27243  CTTGATTTATCGA  2932.135135  1977.702703\n",
              "27244  GCCAGCTTATATC  1736.778947  4998.168421\n",
              "27245  GAGTCGTTATTAG  1386.463855  3961.445783\n",
              "27246  CCGGTATTATATC  2325.544554  2831.287129\n",
              "27247  AGACCGTGCGTAG  1285.637097  3310.524194\n",
              "27248  GTCTCGTGCGGCT  3686.767760  2547.426230\n",
              "27249  ATGGGCTCGCGCT  1757.764286  4395.492857\n",
              "27250  ATCAATTCGCGCT  1860.103448  1886.258621\n",
              "27251  TAAACGTTATCGC  5282.268657  2870.925373\n",
              "27252  AGGACGTTATCGC  2364.152174  5067.217391\n",
              "27253  CGATGCTTATCGC  2501.629032  1413.782258\n",
              "27254  GTCAATTGCGTAT  4656.945946  3014.101351\n",
              "27255  TGCCCGTGCGATA  3835.438095  4180.804762\n",
              "27256  CTACCGTGCGGCG  5176.223776  3567.398601\n",
              "27257  CCGATATGCGGCG  2222.324324  3906.189189\n",
              "27258  TTGGTATCGCCGC  3187.536082  2031.268041\n",
              "27259  TTCTTATCGCCGC  3686.817460  3833.047619\n",
              "27260  TTGTCGTATAGCG  4084.235294  1917.862745\n",
              "\n",
              "[27261 rows x 3 columns]>"
            ]
          },
          "metadata": {
            "tags": []
          },
          "execution_count": 8
        }
      ]
    },
    {
      "cell_type": "code",
      "metadata": {
        "id": "F_Cy3IIF3MYO",
        "colab_type": "code",
        "outputId": "87802765-61d2-408c-fe5f-11f193cbaf5e",
        "colab": {
          "base_uri": "https://localhost:8080/",
          "height": 304
        }
      },
      "source": [
        "puck_counts_path = os.path.join(data_path, \"counts.csv\")\n",
        "counts = pd.read_csv(puck_counts_path)\n",
        "print(counts.shape)\n",
        "counts.head()"
      ],
      "execution_count": 0,
      "outputs": [
        {
          "output_type": "stream",
          "text": [
            "(27261, 17920)\n"
          ],
          "name": "stdout"
        },
        {
          "output_type": "execute_result",
          "data": {
            "text/html": [
              "<div>\n",
              "<style scoped>\n",
              "    .dataframe tbody tr th:only-of-type {\n",
              "        vertical-align: middle;\n",
              "    }\n",
              "\n",
              "    .dataframe tbody tr th {\n",
              "        vertical-align: top;\n",
              "    }\n",
              "\n",
              "    .dataframe thead th {\n",
              "        text-align: right;\n",
              "    }\n",
              "</style>\n",
              "<table border=\"1\" class=\"dataframe\">\n",
              "  <thead>\n",
              "    <tr style=\"text-align: right;\">\n",
              "      <th></th>\n",
              "      <th>barcode</th>\n",
              "      <th>0610007P14Rik</th>\n",
              "      <th>0610009B22Rik</th>\n",
              "      <th>0610009E02Rik</th>\n",
              "      <th>0610009L18Rik</th>\n",
              "      <th>0610009O20Rik</th>\n",
              "      <th>0610010F05Rik</th>\n",
              "      <th>0610010K14Rik</th>\n",
              "      <th>0610011F06Rik</th>\n",
              "      <th>0610030E20Rik</th>\n",
              "      <th>0610037L13Rik</th>\n",
              "      <th>0610038B21Rik</th>\n",
              "      <th>0610039K10Rik</th>\n",
              "      <th>0610040B10Rik</th>\n",
              "      <th>0610040F04Rik</th>\n",
              "      <th>0610040J01Rik</th>\n",
              "      <th>0610043K17Rik</th>\n",
              "      <th>1010001B22Rik</th>\n",
              "      <th>1110001J03Rik</th>\n",
              "      <th>1110002J07Rik</th>\n",
              "      <th>1110002L01Rik</th>\n",
              "      <th>1110002O04Rik</th>\n",
              "      <th>1110004E09Rik</th>\n",
              "      <th>1110004F10Rik</th>\n",
              "      <th>1110007C09Rik</th>\n",
              "      <th>1110008F13Rik</th>\n",
              "      <th>1110008L16Rik</th>\n",
              "      <th>1110008P14Rik</th>\n",
              "      <th>1110012L19Rik</th>\n",
              "      <th>1110015O18Rik</th>\n",
              "      <th>1110017D15Rik</th>\n",
              "      <th>1110018N20Rik</th>\n",
              "      <th>1110019D14Rik</th>\n",
              "      <th>1110020A21Rik</th>\n",
              "      <th>1110025M09Rik</th>\n",
              "      <th>1110032A03Rik</th>\n",
              "      <th>1110032F04Rik</th>\n",
              "      <th>1110034G24Rik</th>\n",
              "      <th>1110035H17Rik</th>\n",
              "      <th>1110037F02Rik</th>\n",
              "      <th>...</th>\n",
              "      <th>Zswim8</th>\n",
              "      <th>Zufsp</th>\n",
              "      <th>Zw10</th>\n",
              "      <th>Zwilch</th>\n",
              "      <th>Zwint</th>\n",
              "      <th>Zxdb</th>\n",
              "      <th>Zxdc</th>\n",
              "      <th>Zyg11b</th>\n",
              "      <th>Zyx</th>\n",
              "      <th>Zzef1</th>\n",
              "      <th>Zzz3</th>\n",
              "      <th>a</th>\n",
              "      <th>l7Rn6</th>\n",
              "      <th>mmu-let-7f-1</th>\n",
              "      <th>mmu-mir-703</th>\n",
              "      <th>mt-Co1</th>\n",
              "      <th>mt-Co3</th>\n",
              "      <th>mt-Cytb</th>\n",
              "      <th>mt-Nd1</th>\n",
              "      <th>mt-Nd2</th>\n",
              "      <th>mt-Nd3</th>\n",
              "      <th>mt-Nd4</th>\n",
              "      <th>mt-Nd5</th>\n",
              "      <th>mt-Nd6</th>\n",
              "      <th>mt-Rnr1</th>\n",
              "      <th>mt-Rnr2</th>\n",
              "      <th>mt-Ta</th>\n",
              "      <th>mt-Tc</th>\n",
              "      <th>mt-Tf</th>\n",
              "      <th>mt-Ti</th>\n",
              "      <th>mt-Tl1</th>\n",
              "      <th>mt-Tl2</th>\n",
              "      <th>mt-Tm</th>\n",
              "      <th>mt-Tp</th>\n",
              "      <th>mt-Tq</th>\n",
              "      <th>mt-Tr</th>\n",
              "      <th>mt-Ts2</th>\n",
              "      <th>mt-Tt</th>\n",
              "      <th>mt-Tv</th>\n",
              "      <th>n-R5-8s1</th>\n",
              "    </tr>\n",
              "  </thead>\n",
              "  <tbody>\n",
              "    <tr>\n",
              "      <th>0</th>\n",
              "      <td>TTCTCCAAGGCCG</td>\n",
              "      <td>0</td>\n",
              "      <td>0</td>\n",
              "      <td>0</td>\n",
              "      <td>0</td>\n",
              "      <td>0</td>\n",
              "      <td>0</td>\n",
              "      <td>0</td>\n",
              "      <td>0</td>\n",
              "      <td>0</td>\n",
              "      <td>0</td>\n",
              "      <td>0</td>\n",
              "      <td>0</td>\n",
              "      <td>0</td>\n",
              "      <td>0</td>\n",
              "      <td>0</td>\n",
              "      <td>0</td>\n",
              "      <td>0</td>\n",
              "      <td>0</td>\n",
              "      <td>0</td>\n",
              "      <td>0</td>\n",
              "      <td>0</td>\n",
              "      <td>0</td>\n",
              "      <td>0</td>\n",
              "      <td>0</td>\n",
              "      <td>0</td>\n",
              "      <td>0</td>\n",
              "      <td>0</td>\n",
              "      <td>0</td>\n",
              "      <td>0</td>\n",
              "      <td>0</td>\n",
              "      <td>0</td>\n",
              "      <td>0</td>\n",
              "      <td>0</td>\n",
              "      <td>0</td>\n",
              "      <td>0</td>\n",
              "      <td>0</td>\n",
              "      <td>0</td>\n",
              "      <td>0</td>\n",
              "      <td>0</td>\n",
              "      <td>...</td>\n",
              "      <td>0</td>\n",
              "      <td>0</td>\n",
              "      <td>0</td>\n",
              "      <td>0</td>\n",
              "      <td>0</td>\n",
              "      <td>0</td>\n",
              "      <td>0</td>\n",
              "      <td>0</td>\n",
              "      <td>0</td>\n",
              "      <td>0</td>\n",
              "      <td>0</td>\n",
              "      <td>0</td>\n",
              "      <td>0</td>\n",
              "      <td>0</td>\n",
              "      <td>0</td>\n",
              "      <td>0</td>\n",
              "      <td>0</td>\n",
              "      <td>0</td>\n",
              "      <td>1</td>\n",
              "      <td>0</td>\n",
              "      <td>0</td>\n",
              "      <td>0</td>\n",
              "      <td>0</td>\n",
              "      <td>0</td>\n",
              "      <td>0</td>\n",
              "      <td>6</td>\n",
              "      <td>0</td>\n",
              "      <td>0</td>\n",
              "      <td>0</td>\n",
              "      <td>0</td>\n",
              "      <td>0</td>\n",
              "      <td>0</td>\n",
              "      <td>0</td>\n",
              "      <td>0</td>\n",
              "      <td>0</td>\n",
              "      <td>0</td>\n",
              "      <td>0</td>\n",
              "      <td>0</td>\n",
              "      <td>0</td>\n",
              "      <td>0</td>\n",
              "    </tr>\n",
              "    <tr>\n",
              "      <th>1</th>\n",
              "      <td>TACTAAAGAATTA</td>\n",
              "      <td>0</td>\n",
              "      <td>0</td>\n",
              "      <td>0</td>\n",
              "      <td>0</td>\n",
              "      <td>0</td>\n",
              "      <td>0</td>\n",
              "      <td>0</td>\n",
              "      <td>0</td>\n",
              "      <td>0</td>\n",
              "      <td>0</td>\n",
              "      <td>0</td>\n",
              "      <td>0</td>\n",
              "      <td>0</td>\n",
              "      <td>0</td>\n",
              "      <td>0</td>\n",
              "      <td>0</td>\n",
              "      <td>0</td>\n",
              "      <td>0</td>\n",
              "      <td>0</td>\n",
              "      <td>0</td>\n",
              "      <td>0</td>\n",
              "      <td>0</td>\n",
              "      <td>0</td>\n",
              "      <td>0</td>\n",
              "      <td>0</td>\n",
              "      <td>0</td>\n",
              "      <td>0</td>\n",
              "      <td>0</td>\n",
              "      <td>0</td>\n",
              "      <td>0</td>\n",
              "      <td>0</td>\n",
              "      <td>0</td>\n",
              "      <td>0</td>\n",
              "      <td>0</td>\n",
              "      <td>0</td>\n",
              "      <td>0</td>\n",
              "      <td>0</td>\n",
              "      <td>0</td>\n",
              "      <td>0</td>\n",
              "      <td>...</td>\n",
              "      <td>0</td>\n",
              "      <td>0</td>\n",
              "      <td>0</td>\n",
              "      <td>0</td>\n",
              "      <td>0</td>\n",
              "      <td>0</td>\n",
              "      <td>0</td>\n",
              "      <td>0</td>\n",
              "      <td>0</td>\n",
              "      <td>0</td>\n",
              "      <td>0</td>\n",
              "      <td>0</td>\n",
              "      <td>0</td>\n",
              "      <td>0</td>\n",
              "      <td>0</td>\n",
              "      <td>1</td>\n",
              "      <td>0</td>\n",
              "      <td>0</td>\n",
              "      <td>1</td>\n",
              "      <td>0</td>\n",
              "      <td>0</td>\n",
              "      <td>0</td>\n",
              "      <td>0</td>\n",
              "      <td>0</td>\n",
              "      <td>1</td>\n",
              "      <td>1</td>\n",
              "      <td>0</td>\n",
              "      <td>0</td>\n",
              "      <td>0</td>\n",
              "      <td>0</td>\n",
              "      <td>0</td>\n",
              "      <td>0</td>\n",
              "      <td>0</td>\n",
              "      <td>0</td>\n",
              "      <td>0</td>\n",
              "      <td>0</td>\n",
              "      <td>0</td>\n",
              "      <td>0</td>\n",
              "      <td>0</td>\n",
              "      <td>0</td>\n",
              "    </tr>\n",
              "    <tr>\n",
              "      <th>2</th>\n",
              "      <td>TCTCTTAGTTGGC</td>\n",
              "      <td>0</td>\n",
              "      <td>0</td>\n",
              "      <td>0</td>\n",
              "      <td>0</td>\n",
              "      <td>0</td>\n",
              "      <td>0</td>\n",
              "      <td>0</td>\n",
              "      <td>0</td>\n",
              "      <td>0</td>\n",
              "      <td>0</td>\n",
              "      <td>0</td>\n",
              "      <td>0</td>\n",
              "      <td>0</td>\n",
              "      <td>0</td>\n",
              "      <td>0</td>\n",
              "      <td>0</td>\n",
              "      <td>0</td>\n",
              "      <td>0</td>\n",
              "      <td>0</td>\n",
              "      <td>0</td>\n",
              "      <td>0</td>\n",
              "      <td>0</td>\n",
              "      <td>0</td>\n",
              "      <td>0</td>\n",
              "      <td>0</td>\n",
              "      <td>0</td>\n",
              "      <td>0</td>\n",
              "      <td>0</td>\n",
              "      <td>0</td>\n",
              "      <td>0</td>\n",
              "      <td>0</td>\n",
              "      <td>0</td>\n",
              "      <td>0</td>\n",
              "      <td>0</td>\n",
              "      <td>0</td>\n",
              "      <td>0</td>\n",
              "      <td>0</td>\n",
              "      <td>0</td>\n",
              "      <td>0</td>\n",
              "      <td>...</td>\n",
              "      <td>0</td>\n",
              "      <td>0</td>\n",
              "      <td>0</td>\n",
              "      <td>0</td>\n",
              "      <td>0</td>\n",
              "      <td>0</td>\n",
              "      <td>0</td>\n",
              "      <td>0</td>\n",
              "      <td>0</td>\n",
              "      <td>0</td>\n",
              "      <td>0</td>\n",
              "      <td>0</td>\n",
              "      <td>0</td>\n",
              "      <td>0</td>\n",
              "      <td>0</td>\n",
              "      <td>0</td>\n",
              "      <td>0</td>\n",
              "      <td>0</td>\n",
              "      <td>0</td>\n",
              "      <td>0</td>\n",
              "      <td>0</td>\n",
              "      <td>0</td>\n",
              "      <td>0</td>\n",
              "      <td>0</td>\n",
              "      <td>0</td>\n",
              "      <td>2</td>\n",
              "      <td>0</td>\n",
              "      <td>0</td>\n",
              "      <td>0</td>\n",
              "      <td>0</td>\n",
              "      <td>0</td>\n",
              "      <td>0</td>\n",
              "      <td>0</td>\n",
              "      <td>0</td>\n",
              "      <td>0</td>\n",
              "      <td>0</td>\n",
              "      <td>0</td>\n",
              "      <td>0</td>\n",
              "      <td>0</td>\n",
              "      <td>0</td>\n",
              "    </tr>\n",
              "    <tr>\n",
              "      <th>3</th>\n",
              "      <td>GCTTTTCGTTCCC</td>\n",
              "      <td>0</td>\n",
              "      <td>0</td>\n",
              "      <td>0</td>\n",
              "      <td>0</td>\n",
              "      <td>0</td>\n",
              "      <td>0</td>\n",
              "      <td>0</td>\n",
              "      <td>0</td>\n",
              "      <td>0</td>\n",
              "      <td>0</td>\n",
              "      <td>0</td>\n",
              "      <td>0</td>\n",
              "      <td>0</td>\n",
              "      <td>0</td>\n",
              "      <td>0</td>\n",
              "      <td>0</td>\n",
              "      <td>0</td>\n",
              "      <td>0</td>\n",
              "      <td>0</td>\n",
              "      <td>0</td>\n",
              "      <td>0</td>\n",
              "      <td>0</td>\n",
              "      <td>0</td>\n",
              "      <td>0</td>\n",
              "      <td>0</td>\n",
              "      <td>0</td>\n",
              "      <td>0</td>\n",
              "      <td>0</td>\n",
              "      <td>0</td>\n",
              "      <td>0</td>\n",
              "      <td>0</td>\n",
              "      <td>0</td>\n",
              "      <td>0</td>\n",
              "      <td>0</td>\n",
              "      <td>0</td>\n",
              "      <td>0</td>\n",
              "      <td>0</td>\n",
              "      <td>0</td>\n",
              "      <td>0</td>\n",
              "      <td>...</td>\n",
              "      <td>0</td>\n",
              "      <td>0</td>\n",
              "      <td>0</td>\n",
              "      <td>0</td>\n",
              "      <td>0</td>\n",
              "      <td>0</td>\n",
              "      <td>0</td>\n",
              "      <td>0</td>\n",
              "      <td>0</td>\n",
              "      <td>0</td>\n",
              "      <td>0</td>\n",
              "      <td>0</td>\n",
              "      <td>0</td>\n",
              "      <td>0</td>\n",
              "      <td>0</td>\n",
              "      <td>0</td>\n",
              "      <td>0</td>\n",
              "      <td>0</td>\n",
              "      <td>0</td>\n",
              "      <td>0</td>\n",
              "      <td>0</td>\n",
              "      <td>1</td>\n",
              "      <td>0</td>\n",
              "      <td>0</td>\n",
              "      <td>0</td>\n",
              "      <td>3</td>\n",
              "      <td>0</td>\n",
              "      <td>0</td>\n",
              "      <td>0</td>\n",
              "      <td>0</td>\n",
              "      <td>0</td>\n",
              "      <td>0</td>\n",
              "      <td>0</td>\n",
              "      <td>0</td>\n",
              "      <td>0</td>\n",
              "      <td>0</td>\n",
              "      <td>0</td>\n",
              "      <td>0</td>\n",
              "      <td>0</td>\n",
              "      <td>0</td>\n",
              "    </tr>\n",
              "    <tr>\n",
              "      <th>4</th>\n",
              "      <td>TACGGGCGAAAAG</td>\n",
              "      <td>0</td>\n",
              "      <td>0</td>\n",
              "      <td>0</td>\n",
              "      <td>0</td>\n",
              "      <td>0</td>\n",
              "      <td>0</td>\n",
              "      <td>0</td>\n",
              "      <td>0</td>\n",
              "      <td>0</td>\n",
              "      <td>0</td>\n",
              "      <td>0</td>\n",
              "      <td>0</td>\n",
              "      <td>0</td>\n",
              "      <td>0</td>\n",
              "      <td>0</td>\n",
              "      <td>0</td>\n",
              "      <td>0</td>\n",
              "      <td>0</td>\n",
              "      <td>0</td>\n",
              "      <td>0</td>\n",
              "      <td>0</td>\n",
              "      <td>0</td>\n",
              "      <td>0</td>\n",
              "      <td>0</td>\n",
              "      <td>0</td>\n",
              "      <td>0</td>\n",
              "      <td>0</td>\n",
              "      <td>0</td>\n",
              "      <td>0</td>\n",
              "      <td>0</td>\n",
              "      <td>0</td>\n",
              "      <td>0</td>\n",
              "      <td>0</td>\n",
              "      <td>0</td>\n",
              "      <td>0</td>\n",
              "      <td>0</td>\n",
              "      <td>0</td>\n",
              "      <td>0</td>\n",
              "      <td>0</td>\n",
              "      <td>...</td>\n",
              "      <td>0</td>\n",
              "      <td>0</td>\n",
              "      <td>0</td>\n",
              "      <td>0</td>\n",
              "      <td>0</td>\n",
              "      <td>0</td>\n",
              "      <td>0</td>\n",
              "      <td>0</td>\n",
              "      <td>0</td>\n",
              "      <td>0</td>\n",
              "      <td>0</td>\n",
              "      <td>0</td>\n",
              "      <td>0</td>\n",
              "      <td>0</td>\n",
              "      <td>0</td>\n",
              "      <td>0</td>\n",
              "      <td>0</td>\n",
              "      <td>0</td>\n",
              "      <td>0</td>\n",
              "      <td>0</td>\n",
              "      <td>0</td>\n",
              "      <td>0</td>\n",
              "      <td>0</td>\n",
              "      <td>0</td>\n",
              "      <td>0</td>\n",
              "      <td>0</td>\n",
              "      <td>0</td>\n",
              "      <td>0</td>\n",
              "      <td>0</td>\n",
              "      <td>0</td>\n",
              "      <td>0</td>\n",
              "      <td>0</td>\n",
              "      <td>0</td>\n",
              "      <td>0</td>\n",
              "      <td>0</td>\n",
              "      <td>0</td>\n",
              "      <td>0</td>\n",
              "      <td>0</td>\n",
              "      <td>0</td>\n",
              "      <td>0</td>\n",
              "    </tr>\n",
              "  </tbody>\n",
              "</table>\n",
              "<p>5 rows × 17920 columns</p>\n",
              "</div>"
            ],
            "text/plain": [
              "         barcode  0610007P14Rik  0610009B22Rik  ...  mt-Tt  mt-Tv  n-R5-8s1\n",
              "0  TTCTCCAAGGCCG              0              0  ...      0      0         0\n",
              "1  TACTAAAGAATTA              0              0  ...      0      0         0\n",
              "2  TCTCTTAGTTGGC              0              0  ...      0      0         0\n",
              "3  GCTTTTCGTTCCC              0              0  ...      0      0         0\n",
              "4  TACGGGCGAAAAG              0              0  ...      0      0         0\n",
              "\n",
              "[5 rows x 17920 columns]"
            ]
          },
          "metadata": {
            "tags": []
          },
          "execution_count": 5
        }
      ]
    },
    {
      "cell_type": "code",
      "metadata": {
        "id": "_4GwaYEvve1g",
        "colab_type": "code",
        "colab": {}
      },
      "source": [
        "choose = np.random.choice(range(27261), size=5000, replace=False)"
      ],
      "execution_count": 0,
      "outputs": []
    },
    {
      "cell_type": "code",
      "metadata": {
        "id": "C5Xn61Y2wZkM",
        "colab_type": "code",
        "colab": {}
      },
      "source": [
        "X = X[:,1:]"
      ],
      "execution_count": 0,
      "outputs": []
    },
    {
      "cell_type": "code",
      "metadata": {
        "id": "-Ext5TW3wrz4",
        "colab_type": "code",
        "outputId": "16022474-cc76-42c6-9b1d-771f0712db7a",
        "colab": {
          "base_uri": "https://localhost:8080/",
          "height": 34
        }
      },
      "source": [
        "np.max(X)"
      ],
      "execution_count": 0,
      "outputs": [
        {
          "output_type": "execute_result",
          "data": {
            "text/plain": [
              "522"
            ]
          },
          "metadata": {
            "tags": []
          },
          "execution_count": 24
        }
      ]
    },
    {
      "cell_type": "code",
      "metadata": {
        "id": "rthetfuJwy2o",
        "colab_type": "code",
        "colab": {}
      },
      "source": [
        "S = np.sort(np.sum(X, axis=0))"
      ],
      "execution_count": 0,
      "outputs": []
    },
    {
      "cell_type": "code",
      "metadata": {
        "id": "E-oka7CkxVcY",
        "colab_type": "code",
        "colab": {}
      },
      "source": [
        "idx = np.argwhere(np.sum(X, axis=0) < 20)"
      ],
      "execution_count": 0,
      "outputs": []
    },
    {
      "cell_type": "code",
      "metadata": {
        "id": "-DUELJM5xfxL",
        "colab_type": "code",
        "outputId": "fdd40fce-7607-4f6f-9d54-2cbc1660545b",
        "colab": {
          "base_uri": "https://localhost:8080/",
          "height": 34
        }
      },
      "source": [
        "idx.shape"
      ],
      "execution_count": 0,
      "outputs": [
        {
          "output_type": "execute_result",
          "data": {
            "text/plain": [
              "(7079, 1)"
            ]
          },
          "metadata": {
            "tags": []
          },
          "execution_count": 43
        }
      ]
    },
    {
      "cell_type": "code",
      "metadata": {
        "id": "ZEWb76DfxqF5",
        "colab_type": "code",
        "outputId": "f4c24cfd-1be8-4208-f4c2-af11f93d3b57",
        "colab": {
          "base_uri": "https://localhost:8080/",
          "height": 136
        }
      },
      "source": [
        "idx[:,0]"
      ],
      "execution_count": 0,
      "outputs": [
        {
          "output_type": "execute_result",
          "data": {
            "text/plain": [
              "array([[   10],\n",
              "       [   11],\n",
              "       [   13],\n",
              "       ...,\n",
              "       [17890],\n",
              "       [17892],\n",
              "       [17895]])"
            ]
          },
          "metadata": {
            "tags": []
          },
          "execution_count": 36
        }
      ]
    },
    {
      "cell_type": "code",
      "metadata": {
        "id": "QvWLv2j0ykE_",
        "colab_type": "code",
        "outputId": "ad181629-d16a-490b-b888-c28e29651e47",
        "colab": {
          "base_uri": "https://localhost:8080/",
          "height": 34
        }
      },
      "source": [
        "X.shape"
      ],
      "execution_count": 0,
      "outputs": [
        {
          "output_type": "execute_result",
          "data": {
            "text/plain": [
              "(27261, 17919)"
            ]
          },
          "metadata": {
            "tags": []
          },
          "execution_count": 45
        }
      ]
    },
    {
      "cell_type": "code",
      "metadata": {
        "id": "VnFt0frCxKze",
        "colab_type": "code",
        "colab": {}
      },
      "source": [
        "X1 = np.delete(X, idx[:,0], axis=1)"
      ],
      "execution_count": 0,
      "outputs": []
    },
    {
      "cell_type": "code",
      "metadata": {
        "id": "M5UhO5XAxzR3",
        "colab_type": "code",
        "outputId": "1e1db7ab-719a-4270-d63a-8d43c868d953",
        "colab": {
          "base_uri": "https://localhost:8080/",
          "height": 34
        }
      },
      "source": [
        "X1.shape"
      ],
      "execution_count": 0,
      "outputs": [
        {
          "output_type": "execute_result",
          "data": {
            "text/plain": [
              "(27261, 10840)"
            ]
          },
          "metadata": {
            "tags": []
          },
          "execution_count": 47
        }
      ]
    },
    {
      "cell_type": "code",
      "metadata": {
        "id": "3dsw7r9ox1nQ",
        "colab_type": "code",
        "colab": {}
      },
      "source": [
        "np.save('slideseq5kdata', X1[choose,:])"
      ],
      "execution_count": 0,
      "outputs": []
    },
    {
      "cell_type": "code",
      "metadata": {
        "id": "VgSAUm_xIdcM",
        "colab_type": "code",
        "colab": {}
      },
      "source": [
        "X = counts.to_numpy()"
      ],
      "execution_count": 0,
      "outputs": []
    },
    {
      "cell_type": "code",
      "metadata": {
        "id": "aDCAPlakvRi1",
        "colab_type": "code",
        "colab": {}
      },
      "source": [
        "np.save('slideseq10k', X[choose,:])"
      ],
      "execution_count": 0,
      "outputs": []
    },
    {
      "cell_type": "code",
      "metadata": {
        "id": "oYYF0TspwBWw",
        "colab_type": "code",
        "colab": {}
      },
      "source": [
        "np.save('slideseq5kcoord', U[choose,:])"
      ],
      "execution_count": 0,
      "outputs": []
    },
    {
      "cell_type": "code",
      "metadata": {
        "id": "hwz9eQmfv1l4",
        "colab_type": "code",
        "outputId": "4421efba-bcf5-4a34-9b20-c7e65c24ad48",
        "colab": {
          "base_uri": "https://localhost:8080/",
          "height": 34
        }
      },
      "source": [
        "U.shape"
      ],
      "execution_count": 0,
      "outputs": [
        {
          "output_type": "execute_result",
          "data": {
            "text/plain": [
              "(27261, 3)"
            ]
          },
          "metadata": {
            "tags": []
          },
          "execution_count": 15
        }
      ]
    },
    {
      "cell_type": "code",
      "metadata": {
        "id": "_IQwVlzfJ76i",
        "colab_type": "code",
        "colab": {}
      },
      "source": [
        "X = X[:,1:]"
      ],
      "execution_count": 0,
      "outputs": []
    },
    {
      "cell_type": "code",
      "metadata": {
        "id": "jZ0ew60rJx6k",
        "colab_type": "code",
        "colab": {}
      },
      "source": [
        "X = X.astype(np.int16)"
      ],
      "execution_count": 0,
      "outputs": []
    },
    {
      "cell_type": "code",
      "metadata": {
        "id": "mVE7QJasJvi6",
        "colab_type": "code",
        "colab": {}
      },
      "source": [
        "U = coords.to_numpy()"
      ],
      "execution_count": 0,
      "outputs": []
    },
    {
      "cell_type": "code",
      "metadata": {
        "id": "QsQLA8NXKV5u",
        "colab_type": "code",
        "colab": {}
      },
      "source": [
        "U = U[:,1:]\n",
        "U = U.astype(np.float32)"
      ],
      "execution_count": 0,
      "outputs": []
    },
    {
      "cell_type": "code",
      "metadata": {
        "id": "BjTkSZI4X7Re",
        "colab_type": "code",
        "colab": {}
      },
      "source": [
        "U=U/np.max(U, axis=0)"
      ],
      "execution_count": 0,
      "outputs": []
    },
    {
      "cell_type": "code",
      "metadata": {
        "id": "l6zNnWnaXm41",
        "colab_type": "code",
        "outputId": "fb87b401-7c3a-4c7e-df78-d8e0ebf21d4f",
        "colab": {
          "base_uri": "https://localhost:8080/",
          "height": 286
        }
      },
      "source": [
        "plt.scatter(U[:,0], U[:,1])"
      ],
      "execution_count": 0,
      "outputs": [
        {
          "output_type": "execute_result",
          "data": {
            "text/plain": [
              "<matplotlib.collections.PathCollection at 0x7f237b9186d8>"
            ]
          },
          "metadata": {
            "tags": []
          },
          "execution_count": 25
        },
        {
          "output_type": "display_data",
          "data": {
            "image/png": "[encoded data removed]",
            "text/plain": [
              "<Figure size 432x288 with 1 Axes>"
            ]
          },
          "metadata": {
            "tags": []
          }
        }
      ]
    },
    {
      "cell_type": "code",
      "metadata": {
        "id": "1iVe5CtkOcUt",
        "colab_type": "code",
        "colab": {}
      },
      "source": [
        "indx = np.argwhere((1000>np.sum(X, axis=1)) & (50<np.sum(X, axis=1)))"
      ],
      "execution_count": 0,
      "outputs": []
    },
    {
      "cell_type": "code",
      "metadata": {
        "id": "67f_H9ZVO76v",
        "colab_type": "code",
        "colab": {}
      },
      "source": [
        "X = X[indx[:,0], :]\n",
        "U = U[indx[:,0], :]"
      ],
      "execution_count": 0,
      "outputs": []
    },
    {
      "cell_type": "code",
      "metadata": {
        "id": "dzw-DvlXRZJ2",
        "colab_type": "code",
        "colab": {}
      },
      "source": [
        "X = X/(np.sum(X, axis=1)[:, np.newaxis])"
      ],
      "execution_count": 0,
      "outputs": []
    },
    {
      "cell_type": "code",
      "metadata": {
        "id": "ncmGjrLS3b4d",
        "colab_type": "code",
        "colab": {}
      },
      "source": [
        "plt.figure(figsize(12, 12))\n",
        "plt.scatter(coords['x'], coords['y'], c='k', s=2, alpha=0.6)\n",
        "plt.axis('equal')\n",
        "plt.title(\"Bead locations\")\n",
        "plt.show()"
      ],
      "execution_count": 0,
      "outputs": []
    },
    {
      "cell_type": "code",
      "metadata": {
        "id": "Yx9lXKEO3eUk",
        "colab_type": "code",
        "colab": {}
      },
      "source": [
        "plt.figure(figsize(12, 12))\n",
        "pyplot.set_cmap('viridis_r')\n",
        "plt.scatter(coords['x'], coords['y'], \n",
        "            c=np.sum(counts.drop(['barcode'], axis=1), axis=1), \n",
        "            s=2, alpha=0.6)\n",
        "plt.colorbar()\n",
        "plt.axis('equal')\n",
        "plt.title(\"Total # UMIs per bead\")\n",
        "plt.show()"
      ],
      "execution_count": 0,
      "outputs": []
    },
    {
      "cell_type": "code",
      "metadata": {
        "id": "bL6BBloIUobY",
        "colab_type": "code",
        "outputId": "feb7ee73-575f-4147-ed48-a9512ee9d533",
        "colab": {
          "base_uri": "https://localhost:8080/",
          "height": 34
        }
      },
      "source": [
        "#Step 1: import dependencies\n",
        "from tensorflow.keras import layers\n",
        "import numpy as np\n",
        "import matplotlib.pyplot as plt\n",
        "import seaborn as sns\n",
        "import tensorflow as tf\n",
        "from keras import regularizers\n",
        "import time\n",
        "from __future__ import division\n",
        "\n",
        "import tensorflow as tf\n",
        "import tensorflow_probability as tfp\n",
        "tfd = tfp.distributions\n",
        "\n",
        "%matplotlib inline\n",
        "plt.style.use('dark_background')\n",
        "\n",
        "import pandas as pd"
      ],
      "execution_count": 0,
      "outputs": [
        {
          "output_type": "stream",
          "text": [
            "Using TensorFlow backend.\n"
          ],
          "name": "stderr"
        }
      ]
    },
    {
      "cell_type": "code",
      "metadata": {
        "id": "BMMdo1eWzZBb",
        "colab_type": "code",
        "colab": {}
      },
      "source": [
        "U = np.load('./5kcoord.npy', allow_pickle=True)\n",
        "X = np.load('./slideseqX.npy', allow_pickle=True)"
      ],
      "execution_count": 0,
      "outputs": []
    },
    {
      "cell_type": "code",
      "metadata": {
        "id": "B6ceQt-Ez23H",
        "colab_type": "code",
        "outputId": "086bcafa-480c-4293-fe35-69225ffa6796",
        "colab": {
          "base_uri": "https://localhost:8080/",
          "height": 34
        }
      },
      "source": [
        "U.shape"
      ],
      "execution_count": 0,
      "outputs": [
        {
          "output_type": "execute_result",
          "data": {
            "text/plain": [
              "(5000, 2)"
            ]
          },
          "metadata": {
            "tags": []
          },
          "execution_count": 6
        }
      ]
    },
    {
      "cell_type": "code",
      "metadata": {
        "id": "-Wr0O3En12nS",
        "colab_type": "code",
        "colab": {}
      },
      "source": [
        "U = U.astype(np.float32)"
      ],
      "execution_count": 0,
      "outputs": []
    },
    {
      "cell_type": "code",
      "metadata": {
        "id": "uEmnT0qU167t",
        "colab_type": "code",
        "colab": {}
      },
      "source": [
        "U = U/np.max(np.abs(U), axis=0)"
      ],
      "execution_count": 0,
      "outputs": []
    },
    {
      "cell_type": "code",
      "metadata": {
        "id": "n6Uxq3DB2BMy",
        "colab_type": "code",
        "outputId": "b245c2fa-dd1d-4aec-860f-d96cc55e6a17",
        "colab": {
          "base_uri": "https://localhost:8080/",
          "height": 286
        }
      },
      "source": [
        "plt.scatter(U[:,0], U[:,1])"
      ],
      "execution_count": 0,
      "outputs": [
        {
          "output_type": "execute_result",
          "data": {
            "text/plain": [
              "<matplotlib.collections.PathCollection at 0x7fd19363d780>"
            ]
          },
          "metadata": {
            "tags": []
          },
          "execution_count": 9
        },
        {
          "output_type": "display_data",
          "data": {
            "image/png": "[encoded data removed]",
            "text/plain": [
              "<Figure size 432x288 with 1 Axes>"
            ]
          },
          "metadata": {
            "tags": []
          }
        }
      ]
    },
    {
      "cell_type": "code",
      "metadata": {
        "id": "pMG4ndME3fdx",
        "colab_type": "code",
        "outputId": "e7648fb8-6499-4b64-f43e-86843bbff73f",
        "colab": {
          "base_uri": "https://localhost:8080/",
          "height": 34
        }
      },
      "source": [
        "X.shape"
      ],
      "execution_count": 0,
      "outputs": [
        {
          "output_type": "execute_result",
          "data": {
            "text/plain": [
              "(5000, 3183)"
            ]
          },
          "metadata": {
            "tags": []
          },
          "execution_count": 10
        }
      ]
    },
    {
      "cell_type": "code",
      "metadata": {
        "id": "VSJCrl9-N2_h",
        "colab_type": "code",
        "colab": {}
      },
      "source": [
        "choose1 = np.random.choice(range(5000), size=1000, replace=False)"
      ],
      "execution_count": 0,
      "outputs": []
    },
    {
      "cell_type": "code",
      "metadata": {
        "id": "Po2xOsIXN-_P",
        "colab_type": "code",
        "colab": {}
      },
      "source": [
        "X = X[choose1, :]\n",
        "U = U[choose1, :]"
      ],
      "execution_count": 0,
      "outputs": []
    },
    {
      "cell_type": "code",
      "metadata": {
        "id": "4E1cgAP9UtB_",
        "colab_type": "code",
        "colab": {}
      },
      "source": [
        "#Reconstruction loss\n",
        "def x_given_w_z(w, z, output_size, training_phase, reg):\n",
        "  with tf.variable_scope('M/x_given_w_z'):\n",
        "    act = tf.nn.leaky_relu\n",
        "    \n",
        "    h = tf.concat((w,z), axis=-1)\n",
        "    h = tf.layers.dense(h, 16, act, kernel_regularizer=reg)\n",
        "    h = tf.layers.dense(h, 32, act, kernel_regularizer=reg)\n",
        "    h = tf.layers.dense(h, 64, act, kernel_regularizer=reg)\n",
        "    h = tf.layers.dense(h, 128, act, kernel_regularizer=reg)\n",
        "    h = tf.layers.dense(h, 256, act, kernel_regularizer=reg)\n",
        "    h = tf.layers.dense(h, 512, act, kernel_regularizer=reg)\n",
        "    h = tf.layers.dense(h, 1024, act, kernel_regularizer=reg)\n",
        "    loc = tf.layers.dense(h, output_size)\n",
        "    #log_variance = tf.layers.dense(x, latent_size)\n",
        "    #scale = tf.nn.softplus(log_variance)\n",
        "    scale = 0.01*tf.ones(tf.shape(loc))\n",
        "    return tfd.MultivariateNormalDiag(loc, scale)\n",
        "\n",
        "\n",
        "#KL term for w\n",
        "def w_given_x_y(x, y, latent_size, training_phase, reg): #+\n",
        "  with tf.variable_scope('M/w_given_x_y'):\n",
        "    act = tf.nn.leaky_relu\n",
        "    h = tf.concat((x,y), axis=-1)\n",
        "    \n",
        "    h = tf.layers.dense(h, 1024, act, kernel_regularizer=reg)\n",
        "    h = tf.layers.dense(h, 512, act, kernel_regularizer=reg)\n",
        "    h = tf.layers.dense(h, 256, act, kernel_regularizer=reg)\n",
        "    h = tf.layers.dense(h, 128, act, kernel_regularizer=reg)\n",
        "    h = tf.layers.dense(h, 64, act, kernel_regularizer=reg)\n",
        "    h = tf.layers.dense(h, 32, act, kernel_regularizer=reg)\n",
        "    h = tf.layers.dense(h, 16, act, kernel_regularizer=reg)\n",
        "    \n",
        "    loc = tf.layers.dense(h,latent_size)\n",
        "    log_variance = tf.layers.dense(h, latent_size)\n",
        "    scale = tf.nn.softplus(log_variance)\n",
        "    #scale = 0.01*tf.ones(tf.shape(loc))\n",
        "    return tfd.MultivariateNormalDiag(loc, scale)\n",
        "\n",
        "def w_given_y(y, y_size, training_phase, reg):\n",
        "  with tf.variable_scope('M/w_given_y'):\n",
        "    act = tf.nn.leaky_relu\n",
        "    h = y\n",
        "    \n",
        "    h = tf.layers.dense(h, 16, act, kernel_regularizer=reg)\n",
        "    h = tf.layers.dense(h, 32, act, kernel_regularizer=reg)\n",
        "    h = tf.layers.dense(h, 64, act, kernel_regularizer=reg)\n",
        "    h = tf.layers.dense(h, 128, act, kernel_regularizer=reg)\n",
        "    h = tf.layers.dense(h, 256, act, kernel_regularizer=reg)\n",
        "    \n",
        "    loc = tf.layers.dense(h, y_size)\n",
        "    log_variance = tf.layers.dense(h, y_size)\n",
        "    scale = tf.nn.softplus(log_variance)\n",
        "    return tfd.MultivariateNormalDiag(loc, scale)\n",
        "\n",
        "\n",
        "#KL term for z\n",
        "def z_given_x(x, latent_size, training_phase, reg): #+\n",
        "  with tf.variable_scope('M/z_given_x'):\n",
        "    act = tf.nn.leaky_relu\n",
        "    h = x\n",
        "    \n",
        "    h = tf.layers.dense(h, 1024, act, kernel_regularizer=reg)\n",
        "    h = tf.layers.dense(h, 512, act, kernel_regularizer=reg)\n",
        "    h = tf.layers.dense(h, 256, act, kernel_regularizer=reg)\n",
        "    h = tf.layers.dense(h, 128, act, kernel_regularizer=reg)\n",
        "    h = tf.layers.dense(h, 64, act, kernel_regularizer=reg)\n",
        "    h = tf.layers.dense(h, 32, act, kernel_regularizer=reg)\n",
        "    h = tf.layers.dense(h, 16, act, kernel_regularizer=reg)\n",
        "    \n",
        "    loc = tf.layers.dense(h,latent_size)\n",
        "    log_variance = tf.layers.dense(h, latent_size)\n",
        "    scale = tf.nn.softplus(log_variance)\n",
        "#     scale = 0.01*tf.ones(tf.shape(loc))\n",
        "    return tfd.MultivariateNormalDiag(loc, scale)\n",
        "\n",
        "def z_given(latent_size):\n",
        "  with tf.variable_scope('M/z_given'):\n",
        "    loc = tf.zeros(latent_size)\n",
        "    scale = 0.1*tf.ones(tf.shape(loc))\n",
        "    return tfd.MultivariateNormalDiag(loc, scale)\n",
        "\n",
        "\n",
        "#For the Mutual information term\n",
        "def y_given_z(z, y_size, training_phase, reg, reuse=None):\n",
        "  with tf.variable_scope('N', reuse=reuse):\n",
        "    act = tf.nn.leaky_relu\n",
        "    h = z\n",
        "    \n",
        "    h = tf.layers.dense(h, 128, act, kernel_regularizer=reg)\n",
        "    h = tf.layers.dense(h, 64, act, kernel_regularizer=reg)\n",
        "    h = tf.layers.dense(h, 32, act, kernel_regularizer=reg)\n",
        "    h = tf.layers.dense(h, 16, act, kernel_regularizer=reg)\n",
        "    h = tf.layers.dense(h, 8, act, kernel_regularizer=reg)\n",
        "    \n",
        "    loc = tf.layers.dense(h, y_size)\n",
        "    log_variance = tf.layers.dense(h, y_size)\n",
        "    scale = tf.nn.softplus(log_variance)\n",
        "    #scale = 0.01*tf.ones(tf.shape(loc))\n",
        "    return tfd.MultivariateNormalDiag(loc, scale)"
      ],
      "execution_count": 0,
      "outputs": []
    },
    {
      "cell_type": "code",
      "metadata": {
        "id": "6cz7pGYjU6Mo",
        "colab_type": "code",
        "outputId": "e6a95caf-79f7-4d31-8a91-e541c23199f5",
        "colab": {
          "base_uri": "https://localhost:8080/",
          "height": 207
        }
      },
      "source": [
        "#Connect encoder and decoder and define the loss function\n",
        "tf.reset_default_graph()\n",
        "\n",
        "x_in = tf.placeholder(tf.float32, shape=[None, X.shape[1]], name='x_in')\n",
        "x_out = tf.placeholder(tf.float32, shape=[None, X.shape[1]], name='x_out')\n",
        "u_in = tf.placeholder(tf.float32, shape=[None, 2], name='u_in')\n",
        "training_phase = tf.placeholder(tf.bool, None, name='training_phase')\n",
        "reg = regularizers.l1_l2(l1=0.0, l2=0.0000001)\n",
        "\n",
        "beta = np.array([1.0, 0.001, 0.0001, 0.001, 1.0])\n",
        "#beta= np.array([100000.0, 1.0, 0.02, 10.0, 1.0])\n",
        "\n",
        "z_latent_size = 8\n",
        "w_latent_size = 8\n",
        "\n",
        "M_learning_rate = 1e-3\n",
        "N_learning_rate = 1e-3\n",
        "\n",
        "#KL_w\n",
        "wIy = w_given_y(u_in, w_latent_size, training_phase, reg)\n",
        "wIxy = w_given_x_y(x_in, u_in, w_latent_size, training_phase, reg)\n",
        "wIxy_sample = wIxy.sample()\n",
        "wIxy_mean = wIxy.mean()\n",
        "kl_w = tf.reduce_mean(wIxy.log_prob(wIxy_sample)- wIy.log_prob(wIxy_sample))\n",
        "#kl_w = tf.reduce_mean(tfd.kl_divergence(wIxy, wIy)) #analytical\n",
        "\n",
        "#KL_z\n",
        "zI = z_given(z_latent_size)\n",
        "zIx = z_given_x(x_in, z_latent_size, training_phase, reg)\n",
        "zIx_sample = zIx.sample()\n",
        "zIx_mean = zIx.mean()\n",
        "kl_z = tf.reduce_mean(zIx.log_prob(zIx_sample)- zI.log_prob(zIx_sample))\n",
        "#kl_z = tf.reduce_mean(tfd.kl_divergence(zIx, zI)) #analytical\n",
        "\n",
        "#Reconstruction\n",
        "xIwz = x_given_w_z(wIxy_sample, zIx_sample, X.shape[1], training_phase, reg)\n",
        "rec_out = xIwz.mean()\n",
        "rec_loss = tf.losses.mean_squared_error(x_out, rec_out)\n",
        "\n",
        "M1 = beta[0]*rec_loss + beta[1]*kl_w + beta[2]*kl_z\n",
        "\n",
        "yIz = y_given_z(zIx_sample, U.shape[1], training_phase, reg, reuse=False)\n",
        "ent2 = -tf.reduce_mean(yIz.entropy())\n",
        "M2 = beta[3]*ent2\n",
        "\n",
        "M_reg = tf.losses.get_regularization_loss(scope='M/')\n",
        "\n",
        "M_cost = M1 + M2 + M_reg\n",
        "\n",
        "M_optimizer = tf.train.AdamOptimizer(M_learning_rate)\n",
        "\n",
        "M_train_vars = tf.get_collection(tf.GraphKeys.GLOBAL_VARIABLES, scope='M/')\n",
        "M_update_ops = tf.get_collection(tf.GraphKeys.UPDATE_OPS, scope='M/')\n",
        "\n",
        "with tf.control_dependencies(M_update_ops):\n",
        "  M_train = M_optimizer.minimize(M_cost, var_list=M_train_vars,\n",
        "                                       name='train_M')\n",
        "\n",
        "  \n",
        "yIz_N = y_given_z(zIx_sample, U.shape[1], training_phase, reg, reuse=True)\n",
        "logN = tf.reduce_mean(-yIz_N.log_prob(u_in))\n",
        "N = beta[4]*logN\n",
        "\n",
        "N_reg = tf.losses.get_regularization_loss(scope='N')\n",
        "\n",
        "N_cost = N + N_reg\n",
        "\n",
        "\n",
        "\n",
        "N_optimizer = tf.train.AdamOptimizer(N_learning_rate)\n",
        "\n",
        "N_train_vars = tf.get_collection(tf.GraphKeys.GLOBAL_VARIABLES, scope='N')\n",
        "N_update_ops = tf.get_collection(tf.GraphKeys.UPDATE_OPS, scope='N')\n",
        "\n",
        "with tf.control_dependencies(N_update_ops):\n",
        "  N_train = N_optimizer.minimize(N_cost, var_list=N_train_vars,\n",
        "                                       name='train_N')\n",
        "\n",
        "# Saver to save session for reuse\n",
        "saver = tf.train.Saver()"
      ],
      "execution_count": 0,
      "outputs": [
        {
          "output_type": "stream",
          "text": [
            "WARNING: Logging before flag parsing goes to stderr.\n",
            "W0905 16:19:59.412699 140539800672128 deprecation.py:323] From <ipython-input-13-e0e98e3257ca>:45: dense (from tensorflow.python.layers.core) is deprecated and will be removed in a future version.\n",
            "Instructions for updating:\n",
            "Use keras.layers.dense instead.\n",
            "W0905 16:19:59.418025 140539800672128 deprecation.py:506] From /usr/local/lib/python3.6/dist-packages/tensorflow/python/ops/init_ops.py:1251: calling VarianceScaling.__init__ (from tensorflow.python.ops.init_ops) with dtype is deprecated and will be removed in a future version.\n",
            "Instructions for updating:\n",
            "Call initializer instance with the dtype argument instead of passing it to the constructor\n",
            "W0905 16:20:00.896906 140539800672128 deprecation.py:323] From /usr/local/lib/python3.6/dist-packages/tensorflow/python/ops/losses/losses_impl.py:121: add_dispatch_support.<locals>.wrapper (from tensorflow.python.ops.array_ops) is deprecated and will be removed in a future version.\n",
            "Instructions for updating:\n",
            "Use tf.where in 2.0, which has the same broadcast rule as np.where\n"
          ],
          "name": "stderr"
        }
      ]
    },
    {
      "cell_type": "code",
      "metadata": {
        "id": "oVaO0RxsY7Ht",
        "colab_type": "code",
        "colab": {}
      },
      "source": [
        "#Helper function\n",
        "def batch_generator(features, x, u, batch_size):\n",
        "  \"\"\"Function to create python generator to shuffle and split features into batches along the first dimension.\"\"\"\n",
        "  idx = np.arange(features.shape[0])\n",
        "  np.random.shuffle(idx)\n",
        "  for start_idx in range(0, features.shape[0], batch_size):\n",
        "    end_idx = min(start_idx + batch_size, features.shape[0])\n",
        "    part = idx[start_idx:end_idx]\n",
        "    yield features[part,:], x[part,:] , u[part, :]"
      ],
      "execution_count": 0,
      "outputs": []
    },
    {
      "cell_type": "code",
      "metadata": {
        "id": "Gm1vfi3hYzuK",
        "colab_type": "code",
        "outputId": "b882643b-a854-4520-db5f-ef6152af5d59",
        "colab": {
          "base_uri": "https://localhost:8080/",
          "height": 1000
        }
      },
      "source": [
        "n_epochs = 15000\n",
        "batch_size = X.shape[0]\n",
        "start = time.time()\n",
        "rec_out_plt = []\n",
        "kl_w_plt= []\n",
        "kl_z_plt = []\n",
        "epoch_plt = []\n",
        "M2_plt = []\n",
        "N_loss_plt = []\n",
        "with tf.Session() as sess:\n",
        "  sess.run(tf.global_variables_initializer())\n",
        "  \n",
        "  \n",
        "  for i in range(n_epochs):\n",
        "    gen = batch_generator(X, X, U, batch_size) #create batch generator\n",
        "    M_loss = 0\n",
        "    N_loss = 0\n",
        "    rec_loss_ = 0\n",
        "    kl_w_ = 0\n",
        "    kl_z_ = 0\n",
        "    M1_ = 0\n",
        "    M2_ = 0\n",
        "    ent2_ = 0\n",
        "    logN_ = 0\n",
        "    \n",
        "    for j in range(np.int(X.shape[0]/batch_size)):\n",
        "      x_in_batch, x_out_batch, u_batch = gen.__next__()\n",
        "      \n",
        "      \n",
        "      _, M_loss_, rec_loss__, kl_w__, kl_z__, M1__, ent2__, M2__= sess.run([M_train, M_cost, rec_loss, kl_w, kl_z, M1, ent2, M2], feed_dict={x_in: x_in_batch, x_out: x_out_batch, u_in: u_batch, training_phase:True})\n",
        "      M_loss += M_loss_\n",
        "      rec_loss_ += rec_loss__\n",
        "      kl_w_ += kl_w__\n",
        "      kl_z_ += kl_z__\n",
        "      M1_ += M1__\n",
        "      M2_ += M2__\n",
        "      \n",
        "      _, N_loss_, logN__= sess.run([N_train, N_cost, logN], feed_dict={x_in: x_in_batch, x_out: x_out_batch, u_in: u_batch, training_phase:True})\n",
        "      N_loss += N_loss_\n",
        "      logN_ += logN__\n",
        "      \n",
        "      \n",
        "    if (i+1)% 50 == 0 or i == 0:\n",
        "      wIxy_mean_, zIx_mean_, rec_out_= sess.run([wIxy_mean, zIx_mean, rec_out], feed_dict ={x_in:X, x_out:X, u_in:U, training_phase:False})\n",
        "      rec_out_plt.append(rec_loss_)\n",
        "      kl_w_plt.append(kl_w_/10.0)\n",
        "      kl_z_plt.append(kl_z_/10.0)\n",
        "      M2_plt.append(M2_/1.0)\n",
        "      N_loss_plt.append(N_loss)\n",
        "      epoch_plt.append(i)\n",
        "      \n",
        "      plt.figure(1) \n",
        "      plt.plot(epoch_plt[-10:], rec_out_plt[-10:])\n",
        "      plt.plot(epoch_plt[-10:], kl_w_plt[-10:])\n",
        "      plt.plot(epoch_plt[-10:], kl_z_plt[-10:])\n",
        "      plt.plot(epoch_plt[-10:], M2_plt[-10:])\n",
        "      \n",
        "      plt.figure(2)\n",
        "      plt.scatter(wIxy_mean_[:,0],wIxy_mean_[:,1], c=U[:,0], s=6.0, cmap='viridis');\n",
        "      plt.xlabel('w1');\n",
        "      plt.ylabel('w2');\n",
        "      \n",
        "      plt.figure(3)\n",
        "      plt.scatter(zIx_mean_[:,0],zIx_mean_[:,1], c=U[:,0], s=6.0, cmap='viridis');\n",
        "      plt.xlabel('z1');\n",
        "      plt.ylabel('z2');\n",
        "      plt.show()\n",
        "      \n",
        "      end = time.time()\n",
        "      print('epoch: {0}, M_loss: {1:.1f}, M1_loss: {2:.1f}, M2_loss: {3:.1f}, N_loss: {4:.2f}'.format((i+1), M_loss/(1+np.int(X.shape[0]/batch_size)), M1_/(1+np.int(X.shape[0]/batch_size)), M2_/(1+np.int(X.shape[0]/batch_size)), N_loss_/(1+np.int(X.shape[0]/batch_size))))\n",
        "      print('epoch: {0}, rec_loss: {1:.8f}, kl_w: {2:.2f}, kl_z: {3:.2f}'.format((i+1), rec_loss_/(1+np.int(X.shape[0]/batch_size)), kl_w_/(1+np.int(X.shape[0]/batch_size)), kl_z_/(1+np.int(X.shape[0]/batch_size))))\n",
        "      start = time.time()"
      ],
      "execution_count": 0,
      "outputs": [
        {
          "output_type": "display_data",
          "data": {
            "image/png": "[encoded data removed]",
            "text/plain": [
              "<Figure size 432x288 with 1 Axes>"
            ]
          },
          "metadata": {
            "tags": []
          }
        },
        {
          "output_type": "display_data",
          "data": {
            "image/png": "[encoded data removed]",
            "text/plain": [
              "<Figure size 432x288 with 1 Axes>"
            ]
          },
          "metadata": {
            "tags": []
          }
        },
        {
          "output_type": "display_data",
          "data": {
            "image/png": "[encoded data removed]",
            "text/plain": [
              "<Figure size 432x288 with 1 Axes>"
            ]
          },
          "metadata": {
            "tags": []
          }
        },
        {
          "output_type": "stream",
          "text": [
            "epoch: 1, M_loss: 0.5, M1_loss: 0.5, M2_loss: -0.0, N_loss: 1.10\n",
            "epoch: 1, rec_loss: 0.49248949, kl_w: 0.99, kl_z: 101.47\n"
          ],
          "name": "stdout"
        },
        {
          "output_type": "display_data",
          "data": {
            "image/png": "[encoded data removed]",
            "text/plain": [
              "<Figure size 432x288 with 1 Axes>"
            ]
          },
          "metadata": {
            "tags": []
          }
        },
        {
          "output_type": "display_data",
          "data": {
            "image/png": "[encoded data removed]",
            "text/plain": [
              "<Figure size 432x288 with 1 Axes>"
            ]
          },
          "metadata": {
            "tags": []
          }
        },
        {
          "output_type": "display_data",
          "data": {
            "image/png": "[encoded data removed]",
            "text/plain": [
              "<Figure size 432x288 with 1 Axes>"
            ]
          },
          "metadata": {
            "tags": []
          }
        },
        {
          "output_type": "stream",
          "text": [
            "epoch: 50, M_loss: 0.5, M1_loss: 0.5, M2_loss: -0.0, N_loss: 0.17\n",
            "epoch: 50, rec_loss: 0.48937771, kl_w: 0.27, kl_z: 4.65\n"
          ],
          "name": "stdout"
        },
        {
          "output_type": "display_data",
          "data": {
            "image/png": "[encoded data removed]",
            "text/plain": [
              "<Figure size 432x288 with 1 Axes>"
            ]
          },
          "metadata": {
            "tags": []
          }
        },
        {
          "output_type": "display_data",
          "data": {
            "image/png": "[encoded data removed]",
            "text/plain": [
              "<Figure size 432x288 with 1 Axes>"
            ]
          },
          "metadata": {
            "tags": []
          }
        },
        {
          "output_type": "display_data",
          "data": {
            "image/png": "[encoded data removed]",
            "text/plain": [
              "<Figure size 432x288 with 1 Axes>"
            ]
          },
          "metadata": {
            "tags": []
          }
        },
        {
          "output_type": "stream",
          "text": [
            "epoch: 100, M_loss: 0.5, M1_loss: 0.5, M2_loss: 0.0, N_loss: -0.07\n",
            "epoch: 100, rec_loss: 0.48620084, kl_w: 0.28, kl_z: 1.16\n"
          ],
          "name": "stdout"
        },
        {
          "output_type": "display_data",
          "data": {
            "image/png": "[encoded data removed]",
            "text/plain": [
              "<Figure size 432x288 with 1 Axes>"
            ]
          },
          "metadata": {
            "tags": []
          }
        },
        {
          "output_type": "display_data",
          "data": {
            "image/png": "[encoded data removed]",
            "text/plain": [
              "<Figure size 432x288 with 1 Axes>"
            ]
          },
          "metadata": {
            "tags": []
          }
        },
        {
          "output_type": "display_data",
          "data": {
            "image/png": "[encoded data removed]",
            "text/plain": [
              "<Figure size 432x288 with 1 Axes>"
            ]
          },
          "metadata": {
            "tags": []
          }
        },
        {
          "output_type": "stream",
          "text": [
            "epoch: 150, M_loss: 0.5, M1_loss: 0.5, M2_loss: 0.0, N_loss: -0.08\n",
            "epoch: 150, rec_loss: 0.47713742, kl_w: 0.57, kl_z: 1.30\n"
          ],
          "name": "stdout"
        },
        {
          "output_type": "display_data",
          "data": {
            "image/png": "[encoded data removed]",
            "text/plain": [
              "<Figure size 432x288 with 1 Axes>"
            ]
          },
          "metadata": {
            "tags": []
          }
        },
        {
          "output_type": "display_data",
          "data": {
            "image/png": "[encoded data removed]",
            "text/plain": [
              "<Figure size 432x288 with 1 Axes>"
            ]
          },
          "metadata": {
            "tags": []
          }
        },
        {
          "output_type": "display_data",
          "data": {
            "image/png": "[encoded data removed]",
            "text/plain": [
              "<Figure size 432x288 with 1 Axes>"
            ]
          },
          "metadata": {
            "tags": []
          }
        },
        {
          "output_type": "stream",
          "text": [
            "epoch: 200, M_loss: 0.5, M1_loss: 0.5, M2_loss: 0.0, N_loss: -0.08\n",
            "epoch: 200, rec_loss: 0.45929095, kl_w: 0.95, kl_z: 3.54\n"
          ],
          "name": "stdout"
        },
        {
          "output_type": "display_data",
          "data": {
            "image/png": "[encoded data removed]",
            "text/plain": [
              "<Figure size 432x288 with 1 Axes>"
            ]
          },
          "metadata": {
            "tags": []
          }
        },
        {
          "output_type": "display_data",
          "data": {
            "image/png": "[encoded data removed]",
            "text/plain": [
              "<Figure size 432x288 with 1 Axes>"
            ]
          },
          "metadata": {
            "tags": []
          }
        },
        {
          "output_type": "display_data",
          "data": {
            "image/png": "[encoded data removed]",
            "text/plain": [
              "<Figure size 432x288 with 1 Axes>"
            ]
          },
          "metadata": {
            "tags": []
          }
        },
        {
          "output_type": "stream",
          "text": [
            "epoch: 250, M_loss: 0.4, M1_loss: 0.4, M2_loss: 0.0, N_loss: -0.08\n",
            "epoch: 250, rec_loss: 0.43654233, kl_w: 1.30, kl_z: 5.14\n"
          ],
          "name": "stdout"
        },
        {
          "output_type": "display_data",
          "data": {
            "image/png": "[encoded data removed]",
            "text/plain": [
              "<Figure size 432x288 with 1 Axes>"
            ]
          },
          "metadata": {
            "tags": []
          }
        },
        {
          "output_type": "display_data",
          "data": {
            "image/png": "[encoded data removed]",
            "text/plain": [
              "<Figure size 432x288 with 1 Axes>"
            ]
          },
          "metadata": {
            "tags": []
          }
        }
      ]
    },
    {
      "cell_type": "code",
      "metadata": {
        "id": "jgd8gA9xrXG6",
        "colab_type": "code",
        "outputId": "a07958a6-c3ba-4d20-d3a5-d8a24634ea1c",
        "colab": {
          "base_uri": "https://localhost:8080/",
          "height": 215
        }
      },
      "source": [
        "plt.figure(2)\n",
        "plt.scatter(wIxy_mean_[:,0],wIxy_mean_[:,1], c=U[:,1], s=6.0, cmap='viridis');\n",
        "plt.xlabel('w1');\n",
        "plt.ylabel('w2');"
      ],
      "execution_count": 0,
      "outputs": [
        {
          "output_type": "error",
          "ename": "NameError",
          "evalue": "ignored",
          "traceback": [
            "\u001b[0;31m---------------------------------------------------------------------------\u001b[0m",
            "\u001b[0;31mNameError\u001b[0m                                 Traceback (most recent call last)",
            "\u001b[0;32m<ipython-input-1-6125fe5ca467>\u001b[0m in \u001b[0;36m<module>\u001b[0;34m()\u001b[0m\n\u001b[0;32m----> 1\u001b[0;31m \u001b[0mplt\u001b[0m\u001b[0;34m.\u001b[0m\u001b[0mfigure\u001b[0m\u001b[0;34m(\u001b[0m\u001b[0;36m2\u001b[0m\u001b[0;34m)\u001b[0m\u001b[0;34m\u001b[0m\u001b[0;34m\u001b[0m\u001b[0m\n\u001b[0m\u001b[1;32m      2\u001b[0m \u001b[0mplt\u001b[0m\u001b[0;34m.\u001b[0m\u001b[0mscatter\u001b[0m\u001b[0;34m(\u001b[0m\u001b[0mwIxy_mean_\u001b[0m\u001b[0;34m[\u001b[0m\u001b[0;34m:\u001b[0m\u001b[0;34m,\u001b[0m\u001b[0;36m0\u001b[0m\u001b[0;34m]\u001b[0m\u001b[0;34m,\u001b[0m\u001b[0mwIxy_mean_\u001b[0m\u001b[0;34m[\u001b[0m\u001b[0;34m:\u001b[0m\u001b[0;34m,\u001b[0m\u001b[0;36m1\u001b[0m\u001b[0;34m]\u001b[0m\u001b[0;34m,\u001b[0m \u001b[0mc\u001b[0m\u001b[0;34m=\u001b[0m\u001b[0mU\u001b[0m\u001b[0;34m[\u001b[0m\u001b[0;34m:\u001b[0m\u001b[0;34m,\u001b[0m\u001b[0;36m1\u001b[0m\u001b[0;34m]\u001b[0m\u001b[0;34m,\u001b[0m \u001b[0ms\u001b[0m\u001b[0;34m=\u001b[0m\u001b[0;36m6.0\u001b[0m\u001b[0;34m,\u001b[0m \u001b[0mcmap\u001b[0m\u001b[0;34m=\u001b[0m\u001b[0;34m'viridis'\u001b[0m\u001b[0;34m)\u001b[0m\u001b[0;34m;\u001b[0m\u001b[0;34m\u001b[0m\u001b[0;34m\u001b[0m\u001b[0m\n\u001b[1;32m      3\u001b[0m \u001b[0mplt\u001b[0m\u001b[0;34m.\u001b[0m\u001b[0mxlabel\u001b[0m\u001b[0;34m(\u001b[0m\u001b[0;34m'w1'\u001b[0m\u001b[0;34m)\u001b[0m\u001b[0;34m;\u001b[0m\u001b[0;34m\u001b[0m\u001b[0;34m\u001b[0m\u001b[0m\n\u001b[1;32m      4\u001b[0m \u001b[0mplt\u001b[0m\u001b[0;34m.\u001b[0m\u001b[0mylabel\u001b[0m\u001b[0;34m(\u001b[0m\u001b[0;34m'w2'\u001b[0m\u001b[0;34m)\u001b[0m\u001b[0;34m;\u001b[0m\u001b[0;34m\u001b[0m\u001b[0;34m\u001b[0m\u001b[0m\n",
            "\u001b[0;31mNameError\u001b[0m: name 'plt' is not defined"
          ]
        }
      ]
    },
    {
      "cell_type": "code",
      "metadata": {
        "id": "qF2Q76aHaHVI",
        "colab_type": "code",
        "outputId": "b3deb826-6975-4fcb-dda1-9c1e0c6c8ede",
        "colab": {
          "base_uri": "https://localhost:8080/",
          "height": 283
        }
      },
      "source": [
        "plt.figure(3)\n",
        "plt.scatter(zIx_mean_[:,0],zIx_mean_[:,1], c=U[:,0], s=6.0, cmap='viridis');\n",
        "plt.xlabel('z1');\n",
        "plt.ylabel('z2');\n",
        "plt.show()"
      ],
      "execution_count": 0,
      "outputs": [
        {
          "output_type": "display_data",
          "data": {
            "image/png": "[encoded data removed]",
            "text/plain": [
              "<Figure size 432x288 with 1 Axes>"
            ]
          },
          "metadata": {
            "tags": []
          }
        }
      ]
    }
  ]
}